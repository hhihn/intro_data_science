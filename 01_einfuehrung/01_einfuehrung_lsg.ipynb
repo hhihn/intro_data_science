{
  "metadata": {
    "colab": {
      "provenance": []
    },
    "kernelspec": {
      "name": "python",
      "display_name": "Python (Pyodide)",
      "language": "python"
    },
    "language_info": {
      "codemirror_mode": {
        "name": "python",
        "version": 3
      },
      "file_extension": ".py",
      "mimetype": "text/x-python",
      "name": "python",
      "nbconvert_exporter": "python",
      "pygments_lexer": "ipython3",
      "version": "3.8"
    }
  },
  "nbformat_minor": 4,
  "nbformat": 4,
  "cells": [
    {
      "cell_type": "markdown",
      "source": "<H1>Grundlagen: Einführung in Python</H1>\n<H3>Einführung Data Science - HTW Berlin - Heinke Hihn</H3>",
      "metadata": {
        "id": "gBv5kXb_4ZkT"
      }
    },
    {
      "cell_type": "markdown",
      "source": "Wir werden die praktischen Übungen in Python umsetzen. Falls Sie damit noch wenig oder keine Erfahrung gesammelt haben, können Sie dieses Notebook als Einstieg durcharbeiten.",
      "metadata": {
        "id": "8NppPUfS4ZkX"
      }
    },
    {
      "cell_type": "markdown",
      "source": "# 1 Einführung",
      "metadata": {
        "id": "4vAmyH6p4ZkY"
      }
    },
    {
      "cell_type": "markdown",
      "source": "Python ist die Standardsprache für Data Science Projekte. Statistische Software, Analysetools, sowie Machine Learning Frameworks sind in Python verfügbar. Wir können nicht alle Aspekte der Sprache behandeln, daher finden Sie hier noch\n\n**Tutorials & weiterführendes Material**:\n\n* https://www.codecademy.com/learn/python\n* http://docs.python-guide.org/en/latest/intro/learning/\n* https://learnpythonthehardway.org/book/\n* https://www.codementor.io/learn-python-online\n* https://websitesetup.org/python-cheat-sheet/\n\nsowie\n\n**Python in Notebooks**:\n\n* http://mbakker7.github.io/exploratory_computing_with_python/\n",
      "metadata": {
        "id": "1pshJma04ZkY"
      }
    },
    {
      "cell_type": "markdown",
      "source": "# 2 Aufbau der Sprache",
      "metadata": {
        "id": "HDFF00nJ4ZkZ"
      }
    },
    {
      "cell_type": "markdown",
      "source": "Python ist eine schwach typisierte imperative Programmiersprache, die auf Anweisungen aufbaut. Eine Anweisung kann beispielsweise sein:\n\n* ein einfacher Ausdruck\n* eine Zuweisung\n* ein Methodenaufruf\n* eine Methodendefinition\n\nSchwach typisiert bedeutet, dass bei der Variablendeklaration kein Typ angegeben werden muss und dass sich der Typ ändern kann:\n\n```\nx = 1\nx = \"hallo\"\n```\n\nGegenteilig dazu sind stark typisierte Sprachen:\n\n```\nint x = 3;\nchar c = 'c';\n```\n\nZur Formatierung der Sprache werden keine Klammern genutzt. Codeblöcke werden durch Einrückung zusammengefasst:\n\n```\ndef sum(x, y):\n  return x + y\n```\n\nIn C++ sieht das beispielsweise so aus:\n\n```\nint sum(int x, int y) {\n  return x + y;\n}\n```",
      "metadata": {
        "id": "gH-pt19Q4ZkZ"
      }
    },
    {
      "cell_type": "markdown",
      "source": "# 3 Variablen",
      "metadata": {
        "id": "igbJm_Gl4Zka"
      }
    },
    {
      "cell_type": "markdown",
      "source": "Variablen werden impliziet dargestellt, d.h. durch die Zuweisung. Es gibt drei wesentliche Typen:\n\n* Zahlen\n  * integers `int`\n  * floating-point `float`\n* strings `str`\n* boolean values [bool](https://)\n* lists and dicts",
      "metadata": {
        "id": "Bn4S8MFk4Zka"
      }
    },
    {
      "cell_type": "markdown",
      "source": "## 3.1 Zahlen",
      "metadata": {
        "id": "BjQkkz6d-R7I"
      }
    },
    {
      "cell_type": "code",
      "source": "# int\nx = 1",
      "metadata": {
        "id": "Di1epTZC4Zkb"
      },
      "execution_count": null,
      "outputs": []
    },
    {
      "cell_type": "code",
      "source": "# float\nx = 1.0",
      "metadata": {
        "collapsed": true,
        "id": "Q5ODnSRE4Zkc",
        "jupyter": {
          "outputs_hidden": true
        }
      },
      "execution_count": null,
      "outputs": []
    },
    {
      "cell_type": "code",
      "source": "# bool\nx = True",
      "metadata": {
        "id": "ft3vnhG44Zkd"
      },
      "execution_count": null,
      "outputs": []
    },
    {
      "cell_type": "code",
      "source": "# das ergebnis einer operation hat immer den größten datentypen der beteiligten operanden.\n# mit \"größe\" ist der bereich der gültigen werte gemeint\n# hier wird aus der summe ein float, weil float der größte datentyp ist\n# int\na = 1\n# float\nb = 2.0\nc = a + b\nprint(\"Das Ergebnis ist\", c)",
      "metadata": {
        "colab": {
          "base_uri": "https://localhost:8080/"
        },
        "id": "SswebM2b9tYq",
        "outputId": "c0b192cb-1eb6-45f6-8a60-0b71317c2d06"
      },
      "execution_count": null,
      "outputs": [
        {
          "output_type": "stream",
          "name": "stdout",
          "text": "Das Ergebnis ist 3.0\n"
        }
      ]
    },
    {
      "cell_type": "markdown",
      "source": "## 3.2 Strings",
      "metadata": {
        "id": "w8COcklW4Zke"
      }
    },
    {
      "cell_type": "code",
      "source": "# deklaration mit einfachen oder doppeltem anführungszeichen\nstr1 = 'apple'\nstr2 = \"apple\"",
      "metadata": {
        "id": "ixRDfJE14Zke"
      },
      "execution_count": null,
      "outputs": []
    },
    {
      "cell_type": "code",
      "source": "# string operation: concatenation\na = \"hallo\"\nprint(a + \"!\")",
      "metadata": {
        "colab": {
          "base_uri": "https://localhost:8080/"
        },
        "id": "vQEBtbL7-umO",
        "outputId": "3088c90e-e7e8-4c68-d9f7-4bcda490d404"
      },
      "execution_count": null,
      "outputs": [
        {
          "output_type": "stream",
          "name": "stdout",
          "text": "hallo!\n"
        }
      ]
    },
    {
      "cell_type": "code",
      "source": "# string operation: vergleich\na = \"hallo\"\nb = \" hallo\"\nprint(a == b)",
      "metadata": {
        "colab": {
          "base_uri": "https://localhost:8080/"
        },
        "id": "fLaH3_KlAS_G",
        "outputId": "60cb4d29-86bb-4958-fab5-8b820841378e"
      },
      "execution_count": null,
      "outputs": [
        {
          "output_type": "stream",
          "name": "stdout",
          "text": "False\n"
        }
      ]
    },
    {
      "cell_type": "code",
      "source": "# string operation: strings sind nicht veränderbar\na = \"hallo\"\na[1] = \"!\"\nprint(a)",
      "metadata": {
        "colab": {
          "base_uri": "https://localhost:8080/",
          "height": 225
        },
        "id": "nvkTjlAVAt3U",
        "outputId": "70209b07-97b7-4140-97e7-eef2e66f85cb",
        "trusted": true
      },
      "execution_count": 1,
      "outputs": [
        {
          "ename": "<class 'TypeError'>",
          "evalue": "'str' object does not support item assignment",
          "traceback": [
            "\u001b[0;31m---------------------------------------------------------------------------\u001b[0m",
            "\u001b[0;31mTypeError\u001b[0m                                 Traceback (most recent call last)",
            "Cell \u001b[0;32mIn[1], line 3\u001b[0m\n\u001b[1;32m      1\u001b[0m \u001b[38;5;66;03m# string operation: strings sind nicht veränderbar\u001b[39;00m\n\u001b[1;32m      2\u001b[0m a \u001b[38;5;241m=\u001b[39m \u001b[38;5;124m\"\u001b[39m\u001b[38;5;124mhallo\u001b[39m\u001b[38;5;124m\"\u001b[39m\n\u001b[0;32m----> 3\u001b[0m \u001b[43ma\u001b[49m\u001b[43m[\u001b[49m\u001b[38;5;241;43m1\u001b[39;49m\u001b[43m]\u001b[49m \u001b[38;5;241m=\u001b[39m \u001b[38;5;124m\"\u001b[39m\u001b[38;5;124m!\u001b[39m\u001b[38;5;124m\"\u001b[39m\n\u001b[1;32m      4\u001b[0m \u001b[38;5;28mprint\u001b[39m(a)\n",
            "\u001b[0;31mTypeError\u001b[0m: 'str' object does not support item assignment"
          ],
          "output_type": "error"
        }
      ]
    },
    {
      "cell_type": "markdown",
      "source": "## 3.3 Boolean Values\nBoolen values sind Wahrheitswerte, können also entweder ```False``` oder ```True``` sein. Sie werden zum Kontrollfluss eingesetzt:\n\n```\nif(x):\n  print(\"Pfad 1\")\nelse:\n  print(\"Pfad 2\")\n```",
      "metadata": {
        "id": "XhrtTFtO4Zkf"
      }
    },
    {
      "cell_type": "code",
      "source": "# binäre werte: True und False\na = True\nb = False",
      "metadata": {
        "id": "RfQSFcvq4Zkf"
      },
      "execution_count": null,
      "outputs": []
    },
    {
      "cell_type": "code",
      "source": "# durch boolesche operatoren beliebig kombinierbar\nprint(a or b)\nprint(a and b)\nprint(not a)\nprint(not(a or b))\nprint(not(a and b))",
      "metadata": {
        "colab": {
          "base_uri": "https://localhost:8080/"
        },
        "id": "VYk2McnS4Zkf",
        "outputId": "690a42cf-9a13-4fa3-c60e-676ed315e0c0"
      },
      "execution_count": null,
      "outputs": [
        {
          "output_type": "stream",
          "name": "stdout",
          "text": "True\n\nFalse\n\nFalse\n\nFalse\n\nTrue\n"
        }
      ]
    },
    {
      "cell_type": "markdown",
      "source": "## 3.4 Listen",
      "metadata": {
        "id": "URsI3T0c_QsW"
      }
    },
    {
      "cell_type": "code",
      "source": "# listen können beliebige objekte halten\nx = [0, 1, 3, 'hallo']",
      "metadata": {
        "id": "NU5Si_z74Zkd"
      },
      "execution_count": null,
      "outputs": []
    },
    {
      "cell_type": "code",
      "source": "# elementweiser zugriff\nx[1] = 3\nprint(x[1])",
      "metadata": {
        "colab": {
          "base_uri": "https://localhost:8080/"
        },
        "id": "Nh9uvxfXBAPT",
        "outputId": "503997e3-3b74-4e38-cb96-41d10f6c02dd"
      },
      "execution_count": null,
      "outputs": [
        {
          "output_type": "stream",
          "name": "stdout",
          "text": "3\n"
        }
      ]
    },
    {
      "cell_type": "code",
      "source": "# element anhängen. -1 ist das letze element, -2 das vorletzte, etc\nprint(x[-1])\nprint(\"füge neues element ein\")\nx.append(\"letztes element\")\nprint(x[-1])",
      "metadata": {
        "colab": {
          "base_uri": "https://localhost:8080/"
        },
        "id": "kbo-5rETBJMl",
        "outputId": "9c730152-1676-4a9d-f5e0-428007d2e3ed"
      },
      "execution_count": null,
      "outputs": [
        {
          "output_type": "stream",
          "name": "stdout",
          "text": "letztes element\n\nfüge neues element ein\n\nletztes element\n"
        }
      ]
    },
    {
      "cell_type": "markdown",
      "source": "## 3.4 Dicts",
      "metadata": {
        "id": "fCaDrCwi4Zkg"
      }
    },
    {
      "cell_type": "markdown",
      "source": "Dictionaries sind hash tables. Sie ermöglichen einen direkten Zugriff auf die Elemente, wenn diese einen im Dict eindeutigen Schlüssel haben.",
      "metadata": {
        "id": "t-NINbTB4Zkg"
      }
    },
    {
      "cell_type": "code",
      "source": "# deklaration und zugriff\nd = {\"apple\": \"fruit\", \"parsely\": \"herb\", \"monkey\": \"mammal\"}\nprint(d[\"apple\"])",
      "metadata": {
        "collapsed": true,
        "colab": {
          "base_uri": "https://localhost:8080/"
        },
        "id": "dCfJMpgt4Zkh",
        "outputId": "d6a630b7-521c-4760-c2d0-b5b1da27d0d2",
        "jupyter": {
          "outputs_hidden": true
        }
      },
      "execution_count": null,
      "outputs": [
        {
          "output_type": "stream",
          "name": "stdout",
          "text": "a fruit\n"
        }
      ]
    },
    {
      "cell_type": "code",
      "source": "# dicts können auch geschachtelt sein und komplexere datentypen haben\nd = {\n    \"type\": 0,\n    \"parameters\": {\n        \"data\": [0, 1, 2, 3],\n        \"user\": \"wwhite01\",\n    }\n}\nprint(d[\"parameters\"][\"user\"])",
      "metadata": {
        "colab": {
          "base_uri": "https://localhost:8080/"
        },
        "id": "FtnXhDhW4Zkh",
        "outputId": "1f398a05-5774-4bb9-ec8c-ea5bbe6a10c3"
      },
      "execution_count": null,
      "outputs": [
        {
          "output_type": "stream",
          "name": "stdout",
          "text": "wwhite01\n"
        }
      ]
    },
    {
      "cell_type": "markdown",
      "source": "## 3.5 Methoden- und Funktionsaufrufe\n\n\n",
      "metadata": {
        "id": "TnVvPT3V4Zkh"
      }
    },
    {
      "cell_type": "markdown",
      "source": "Es gibt zwei Möglichkeiten Funktionen in Python aufzurufen:\n1. durch vordefinierte infix Operatoren\n2. durch den Funktionsnamen mit Argumenten in Klammern\n",
      "metadata": {
        "id": "ctsNxYhw4Zkh"
      }
    },
    {
      "cell_type": "code",
      "source": "# infix bedeutet dass der operator zwischen den operanden steht\n1 + 2",
      "metadata": {
        "id": "OtAo6m264Zki",
        "colab": {
          "base_uri": "https://localhost:8080/"
        },
        "outputId": "69ece708-a446-4b3f-87fe-52aea77d03fe"
      },
      "execution_count": null,
      "outputs": [
        {
          "output_type": "execute_result",
          "execution_count": 2,
          "data": {
            "text/plain": [
              "3"
            ]
          },
          "metadata": {}
        }
      ]
    },
    {
      "cell_type": "code",
      "source": "# aufruf als funktionsname und argument\nabs(-1)",
      "metadata": {
        "id": "e2ffXpyW4Zki"
      },
      "execution_count": null,
      "outputs": []
    },
    {
      "cell_type": "markdown",
      "source": "## 3.6 Besondere Werte\n\n```None``` stellt einen Null-Objekt dar, also ein nicht definiertes Objekt.",
      "metadata": {
        "id": "FYEaNsY74Zkl"
      }
    },
    {
      "cell_type": "code",
      "source": "None",
      "metadata": {
        "id": "UUU7DHhv4Zkm",
        "tags": [],
        "trusted": true
      },
      "execution_count": 10,
      "outputs": []
    },
    {
      "cell_type": "markdown",
      "source": "```True``` und ```False``` stellen Wahrheitswerte da. Sie sind einmalig und unveränderbar.",
      "metadata": {}
    },
    {
      "cell_type": "markdown",
      "source": "## 3.7 Funktionsdefinition\nSchlüsselwort ```def``` markiert den Beginn einer Funktionsdefinition. Es folgt der Name und in runden Klammern die Argumente. Der Funktionsname muss im Gültigkeitsbereich einmalig sein. Das Schlüsselwort ```return``` markiert den Rückgabewert der Funktion. Fehlt ein ```return```, so gibt die Funktion immer ```None``` zurück.",
      "metadata": {
        "id": "EYttsbFl4Zkm"
      }
    },
    {
      "cell_type": "code",
      "source": "# funktion namens plus mit zwei argumenten\ndef plus(a, b):\n    return a + b",
      "metadata": {
        "id": "SM1ZSt0C4Zkm",
        "tags": [],
        "trusted": true
      },
      "execution_count": 2,
      "outputs": []
    },
    {
      "cell_type": "code",
      "source": "# funktionsaufruf\nplus(3, 4)",
      "metadata": {
        "id": "yvIAKIj-4Zkn",
        "trusted": true
      },
      "execution_count": 3,
      "outputs": [
        {
          "execution_count": 3,
          "output_type": "execute_result",
          "data": {
            "text/plain": "7"
          },
          "metadata": {}
        }
      ]
    },
    {
      "cell_type": "code",
      "source": "def plus(a, b):\n    a + b",
      "metadata": {
        "id": "ZhVUWCpD4Zkn",
        "tags": [],
        "trusted": true
      },
      "execution_count": 4,
      "outputs": []
    },
    {
      "cell_type": "code",
      "source": "print(plus(3, 4))",
      "metadata": {
        "id": "XT_Dy7WL4Zko",
        "tags": [],
        "trusted": true
      },
      "execution_count": 23,
      "outputs": [
        {
          "name": "stdout",
          "text": "None\n",
          "output_type": "stream"
        }
      ]
    },
    {
      "cell_type": "code",
      "source": "\"a\" + str(1)",
      "metadata": {
        "id": "AOOD-25P4Zkp",
        "trusted": true
      },
      "execution_count": 9,
      "outputs": [
        {
          "execution_count": 9,
          "output_type": "execute_result",
          "data": {
            "text/plain": "'a1'"
          },
          "metadata": {}
        }
      ]
    },
    {
      "cell_type": "markdown",
      "source": "### 3.7.1 Standardwerte für Parameter\nParameter von Funktionen können bei der Definition Standardwerte zugewiesen werden:",
      "metadata": {
        "id": "ceuVEYuT4Zkv"
      }
    },
    {
      "cell_type": "code",
      "source": "def do_something(a=1, b=2, c=3):\n    return (a, b, c)\n\ndo_something()",
      "metadata": {
        "id": "ceuVEYuT4Zkv",
        "trusted": true
      },
      "execution_count": 29,
      "outputs": [
        {
          "execution_count": 29,
          "output_type": "execute_result",
          "data": {
            "text/plain": "(1, 2, 3)"
          },
          "metadata": {}
        }
      ]
    },
    {
      "cell_type": "markdown",
      "source": "Sollen diese überschrieben werden, können Sie entweder direkt benannt werden oder durch ihre Position bestimmt werden:",
      "metadata": {}
    },
    {
      "cell_type": "code",
      "source": "do_something(0, 2, c=3)",
      "metadata": {
        "trusted": true
      },
      "execution_count": 34,
      "outputs": [
        {
          "execution_count": 34,
          "output_type": "execute_result",
          "data": {
            "text/plain": "(0, 2, 3)"
          },
          "metadata": {}
        }
      ]
    },
    {
      "cell_type": "markdown",
      "source": "## 3.8 Vergleiche",
      "metadata": {
        "id": "SuAvKNOe4Zkp"
      }
    },
    {
      "cell_type": "markdown",
      "source": "### 3.8.1 Test auf Gleichheit durch ==\nDer binäre Operator ``==`` vergleicht zwei Operanden auf Gleichheit:",
      "metadata": {
        "id": "1zp6-keH4Zkp"
      }
    },
    {
      "cell_type": "code",
      "source": "1 == 1",
      "metadata": {
        "id": "xQvDmLrz4Zkq",
        "trusted": true
      },
      "execution_count": 14,
      "outputs": [
        {
          "execution_count": 14,
          "output_type": "execute_result",
          "data": {
            "text/plain": "True"
          },
          "metadata": {}
        }
      ]
    },
    {
      "cell_type": "code",
      "source": "\"a\" == \"a\"",
      "metadata": {
        "trusted": true
      },
      "execution_count": 13,
      "outputs": [
        {
          "execution_count": 13,
          "output_type": "execute_result",
          "data": {
            "text/plain": "True"
          },
          "metadata": {}
        }
      ]
    },
    {
      "cell_type": "code",
      "source": "\"a\" == \"b\"",
      "metadata": {
        "trusted": true
      },
      "execution_count": 13,
      "outputs": [
        {
          "execution_count": 13,
          "output_type": "execute_result",
          "data": {
            "text/plain": "True"
          },
          "metadata": {}
        }
      ]
    },
    {
      "cell_type": "markdown",
      "source": "### 3.8.2 Test auf Objektgleichheit durch is\nObjekte (Referenzen) werden durch den binären Operator ```is``` verglichen.",
      "metadata": {
        "id": "yKpE0hOT4Zkq"
      }
    },
    {
      "cell_type": "code",
      "source": "[] is []",
      "metadata": {
        "id": "RQOGgC__4Zkq",
        "trusted": true
      },
      "execution_count": 15,
      "outputs": [
        {
          "execution_count": 15,
          "output_type": "execute_result",
          "data": {
            "text/plain": "False"
          },
          "metadata": {}
        }
      ]
    },
    {
      "cell_type": "code",
      "source": "list() is list()",
      "metadata": {
        "id": "aVNt0M634Zkq",
        "trusted": true
      },
      "execution_count": 16,
      "outputs": [
        {
          "execution_count": 16,
          "output_type": "execute_result",
          "data": {
            "text/plain": "False"
          },
          "metadata": {}
        }
      ]
    },
    {
      "cell_type": "code",
      "source": "tuple() is tuple()",
      "metadata": {
        "id": "JYCKHXs-4Zkq",
        "trusted": true
      },
      "execution_count": 17,
      "outputs": [
        {
          "execution_count": 17,
          "output_type": "execute_result",
          "data": {
            "text/plain": "True"
          },
          "metadata": {}
        }
      ]
    },
    {
      "cell_type": "code",
      "source": "57663463467 is 57663463467",
      "metadata": {
        "id": "9LEl6ohy4Zkq",
        "trusted": true
      },
      "execution_count": 18,
      "outputs": [
        {
          "name": "stderr",
          "text": "<>:1: SyntaxWarning: \"is\" with a literal. Did you mean \"==\"?\n<>:1: SyntaxWarning: \"is\" with a literal. Did you mean \"==\"?\n<ipython-input-18-7a355bd8766c>:1: SyntaxWarning: \"is\" with a literal. Did you mean \"==\"?\n  57663463467 is 57663463467\n",
          "output_type": "stream"
        },
        {
          "execution_count": 18,
          "output_type": "execute_result",
          "data": {
            "text/plain": "True"
          },
          "metadata": {}
        }
      ]
    },
    {
      "cell_type": "code",
      "source": "True is False",
      "metadata": {
        "trusted": true
      },
      "execution_count": 19,
      "outputs": [
        {
          "execution_count": 19,
          "output_type": "execute_result",
          "data": {
            "text/plain": "False"
          },
          "metadata": {}
        }
      ]
    },
    {
      "cell_type": "code",
      "source": "a = [0, 1]\na is None",
      "metadata": {
        "trusted": true
      },
      "execution_count": 20,
      "outputs": [
        {
          "execution_count": 20,
          "output_type": "execute_result",
          "data": {
            "text/plain": "False"
          },
          "metadata": {}
        }
      ]
    },
    {
      "cell_type": "markdown",
      "source": "## 2.2 Gültigkeitsbereiche von Variablen",
      "metadata": {
        "id": "jvfhz5x24Zkr"
      }
    },
    {
      "cell_type": "markdown",
      "source": "Variablen innerhalb von Funktionen sind außerhalb ungültig:",
      "metadata": {}
    },
    {
      "cell_type": "code",
      "source": "scope_x = 3\ndef fun():\n    scope_x = 0\n    return scope_x\nfun()\nscope_x",
      "metadata": {
        "trusted": true
      },
      "execution_count": 47,
      "outputs": [
        {
          "execution_count": 47,
          "output_type": "execute_result",
          "data": {
            "text/plain": "3"
          },
          "metadata": {}
        }
      ]
    },
    {
      "cell_type": "markdown",
      "source": "Besonderheit bei ```Python```: wo welche Variablen gültig sind, ist nicht immer eindeutig erkennbar. In folgendem Beispiel würde man annehmen, dass ```x``` nur im Kopf der Schleife gültig ist:",
      "metadata": {
        "id": "FKdvLG1M4Zks"
      }
    },
    {
      "cell_type": "code",
      "source": "y = 0\nfor x in range(10):\n    y = x",
      "metadata": {
        "id": "ApOUG8iM4Zks",
        "trusted": true
      },
      "execution_count": 38,
      "outputs": []
    },
    {
      "cell_type": "code",
      "source": "x",
      "metadata": {
        "id": "d-0Q22J94Zks",
        "trusted": true
      },
      "execution_count": 39,
      "outputs": [
        {
          "execution_count": 39,
          "output_type": "execute_result",
          "data": {
            "text/plain": "9"
          },
          "metadata": {}
        }
      ]
    },
    {
      "cell_type": "markdown",
      "source": "# 4. Import ",
      "metadata": {
        "id": "8pajzzOi4Zkr"
      }
    },
    {
      "cell_type": "markdown",
      "source": "Code und Bibliotheken werden durch das Schlüsselwort ```import``` geladen:",
      "metadata": {
        "id": "3KXsOVkX4Zkr"
      }
    },
    {
      "cell_type": "code",
      "source": "import numpy",
      "metadata": {
        "id": "5wTeRB3F4Zkr"
      },
      "execution_count": null,
      "outputs": []
    },
    {
      "cell_type": "markdown",
      "source": "Ist nur ein Teil davon notwendig, kann über ```from``` nur ein Modul geladen werden:",
      "metadata": {
        "id": "0w3yuhIf4Zkr"
      }
    },
    {
      "cell_type": "code",
      "source": "from matplotlib import pyplot",
      "metadata": {
        "trusted": true
      },
      "execution_count": 25,
      "outputs": []
    },
    {
      "cell_type": "markdown",
      "source": "Module können über ```as``` umbenannt werden:",
      "metadata": {
        "id": "0w3yuhIf4Zkr"
      }
    },
    {
      "cell_type": "code",
      "source": "from matplotlib import pyplot as plt",
      "metadata": {
        "trusted": true
      },
      "execution_count": 27,
      "outputs": []
    },
    {
      "cell_type": "markdown",
      "source": "# 5. Arbeiten mit Daten",
      "metadata": {
        "id": "4HPhobwB4Zkw"
      }
    },
    {
      "cell_type": "markdown",
      "source": "Die drei häufigsten Bibliotheken sind ```matplotlib```, ```numpy```, und ```pandas```. ```matplotlib``` wird zu visualieserung und ```pandas```zur Manipulation von Daten verwendet. ```numpy``` stellt ",
      "metadata": {}
    },
    {
      "cell_type": "code",
      "source": "import matplotlib.pyplot as plt\nimport pandas as pd\nimport numpy as np\n\n# erzeuge zufällige daten\ndata = np.random.randn(1000, 4)\n# speichere die daten in einem DataFrame und bennen die Spalten\ndf = pd.DataFrame(data, columns=list(\"ABCD\"))\n# bilde die kumulative Summe zur Darstellung\ndf = df.cumsum()\n# erzeuge eine (leere) grafik\nplt.figure();\n# plotte di daten in die grafik\ndf.plot(xlabel=\"Zeit\", ylabel=\"Wert\", title=\"Ein Beispiel\");",
      "metadata": {
        "id": "J18BsJRt4Zkx",
        "tags": [],
        "trusted": true
      },
      "execution_count": 4,
      "outputs": [
        {
          "output_type": "display_data",
          "data": {
            "text/plain": "<Figure size 640x480 with 0 Axes>"
          },
          "metadata": {}
        },
        {
          "output_type": "display_data",
          "data": {
            "text/plain": "<Figure size 640x480 with 1 Axes>",
            "image/png": "[encoded data removed]"
          },
          "metadata": {}
        }
      ]
    },
    {
      "cell_type": "markdown",
      "source": "# 6. Ein Beispiel: BIP pro Kopf für Sudan und Bangladesh\nIn den Dateien ```bangladesh_bip.csv``` und ```sudan_bip.csv``` finden Sie die jeweiligen Bruttosozialprodukte pro Kopf in US-Dollar der beiden Ländern. \n\na) Laden Sie diese in ein ```pandas``` dataframe und stellen Sie sie geeignet da. \n\nb) Welche Unterschiede können Sie beobachten? Wie lassen sich diese erklären?",
      "metadata": {}
    },
    {
      "cell_type": "code",
      "source": "import matplotlib.pyplot as plt\nimport pandas as pd\nimport numpy as np",
      "metadata": {
        "trusted": true
      },
      "execution_count": 1,
      "outputs": []
    },
    {
      "cell_type": "code",
      "source": "sudan_data = pd.read_csv(\"sudan_bip.csv\")\nbang_data = pd.read_csv(\"bangladesh_bip.csv\")\nsudan_data.head()",
      "metadata": {
        "trusted": true
      },
      "execution_count": 5,
      "outputs": [
        {
          "execution_count": 5,
          "output_type": "execute_result",
          "data": {
            "text/plain": "   year  gdp per capita\n0  1990     2756.530029\n1  1991     2909.616211\n2  1992     3052.743164\n3  1993     3140.025146\n4  1994     3095.871582",
            "text/html": "<div>\n<style scoped>\n    .dataframe tbody tr th:only-of-type {\n        vertical-align: middle;\n    }\n\n    .dataframe tbody tr th {\n        vertical-align: top;\n    }\n\n    .dataframe thead th {\n        text-align: right;\n    }\n</style>\n<table border=\"1\" class=\"dataframe\">\n  <thead>\n    <tr style=\"text-align: right;\">\n      <th></th>\n      <th>year</th>\n      <th>gdp per capita</th>\n    </tr>\n  </thead>\n  <tbody>\n    <tr>\n      <th>0</th>\n      <td>1990</td>\n      <td>2756.530029</td>\n    </tr>\n    <tr>\n      <th>1</th>\n      <td>1991</td>\n      <td>2909.616211</td>\n    </tr>\n    <tr>\n      <th>2</th>\n      <td>1992</td>\n      <td>3052.743164</td>\n    </tr>\n    <tr>\n      <th>3</th>\n      <td>1993</td>\n      <td>3140.025146</td>\n    </tr>\n    <tr>\n      <th>4</th>\n      <td>1994</td>\n      <td>3095.871582</td>\n    </tr>\n  </tbody>\n</table>\n</div>"
          },
          "metadata": {}
        }
      ]
    },
    {
      "cell_type": "code",
      "source": "f, ax = plt.subplots(1,1)\nsudan_data.plot(ax=ax, x=\"year\", y=\"gdp per capita\", label=\"Sudan\")\nbang_data.plot(ax=ax, x=\"year\", y=\"gdp per capita\", label=\"Bangladesh\")\nax.set_ylabel(\"US Dollar\")\nax.set_xlabel(\"Jahr\")\nax.set_title(\"BIP pro Kopf in Dollar ausgewählter Länder\");",
      "metadata": {
        "trusted": true
      },
      "execution_count": 14,
      "outputs": [
        {
          "output_type": "display_data",
          "data": {
            "text/plain": "<Figure size 640x480 with 1 Axes>",
            "image/png": "[encoded data removed]"
          },
          "metadata": {}
        }
      ]
    },
    {
      "cell_type": "markdown",
      "source": "Eine mögliche Erklärung für den Abfall des BIP/Kopf in Sudan liegt in der Abspaltung des Südsudan, in dem fast alle Rohölreserven liegen. Diese erfolgte mit der Abhängigkeit 2014 und könnte den starken Abfall erklären.",
      "metadata": {}
    },
    {
      "cell_type": "code",
      "source": "",
      "metadata": {},
      "execution_count": null,
      "outputs": []
    }
  ]
}