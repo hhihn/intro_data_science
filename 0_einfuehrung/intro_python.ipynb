{
  "cells": [
    {
      "cell_type": "markdown",
      "metadata": {
        "id": "gBv5kXb_4ZkT"
      },
      "source": [
        "<H1>Grundlagen: Einführung in Python</H1>\n",
        "<H3>Einführung Data Science - HTW Berlin - Heinke Hihn</H3>"
      ]
    },
    {
      "cell_type": "markdown",
      "metadata": {
        "id": "8NppPUfS4ZkX"
      },
      "source": [
        "Wir werden die praktischen Übungen in Python umsetzen. Falls Sie damit noch wenig oder keine Erfahrung gesammelt haben, können Sie dieses Notebook als Einstieg durcharbeiten."
      ]
    },
    {
      "cell_type": "markdown",
      "metadata": {
        "id": "4vAmyH6p4ZkY"
      },
      "source": [
        "# 1 Einführung"
      ]
    },
    {
      "cell_type": "markdown",
      "metadata": {
        "id": "1pshJma04ZkY"
      },
      "source": [
        "Python ist die Standardsprache für Data Science Projekte. Statistische Software, Analysetools, sowie Machine Learning Frameworks sind in Python verfügbar. Wir können nicht alle Aspekte der Sprache behandeln, daher finden Sie hier noch\n",
        "\n",
        "**Tutorials & weiterführendes Material**:\n",
        "\n",
        "* https://www.codecademy.com/learn/python\n",
        "* http://docs.python-guide.org/en/latest/intro/learning/\n",
        "* https://learnpythonthehardway.org/book/\n",
        "* https://www.codementor.io/learn-python-online\n",
        "* https://websitesetup.org/python-cheat-sheet/\n",
        "\n",
        "sowie\n",
        "\n",
        "**Python in Notebooks**:\n",
        "\n",
        "* http://mbakker7.github.io/exploratory_computing_with_python/\n"
      ]
    },
    {
      "cell_type": "markdown",
      "metadata": {
        "id": "HDFF00nJ4ZkZ"
      },
      "source": [
        "# 2 Aufbau der Sprache"
      ]
    },
    {
      "cell_type": "markdown",
      "metadata": {
        "id": "gH-pt19Q4ZkZ"
      },
      "source": [
        "Python ist eine schwach typisierte imperative Programmiersprache, die auf Anweisungen aufbaut. Eine Anweisung kann beispielsweise sein:\n",
        "\n",
        "* ein einfacher Ausdruck\n",
        "* eine Zuweisung\n",
        "* ein Methodenaufruf\n",
        "* eine Methodendefinition\n",
        "\n",
        "Schwach typisiert bedeutet, dass bei der Variablendeklaration kein Typ angegeben werden muss und dass sich der Typ ändern kann:\n",
        "\n",
        "```\n",
        "x = 1\n",
        "x = \"hallo\"\n",
        "```\n",
        "\n",
        "Gegenteilig dazu sind stark typisierte Sprachen:\n",
        "\n",
        "```\n",
        "int x = 3;\n",
        "char c = 'c';\n",
        "```\n",
        "\n",
        "Zur Formatierung der Sprache werden keine Klammern genutzt. Codeblöcke werden durch Einrückung zusammengefasst:\n",
        "\n",
        "```\n",
        "def sum(x, y):\n",
        "  return x + y\n",
        "```\n",
        "\n",
        "In C++ sieht das beispielsweise so aus:\n",
        "\n",
        "```\n",
        "int sum(int x, int y) {\n",
        "  return x + y;\n",
        "}\n",
        "```"
      ]
    },
    {
      "cell_type": "markdown",
      "metadata": {
        "id": "igbJm_Gl4Zka"
      },
      "source": [
        "# 3 Variablen"
      ]
    },
    {
      "cell_type": "markdown",
      "metadata": {
        "id": "Bn4S8MFk4Zka"
      },
      "source": [
        "Variablen werden impliziet dargestellt, d.h. durch die Zuweisung. Es gibt drei wesentliche Typen:\n",
        "\n",
        "* Zahlen\n",
        "  * integers `int`\n",
        "  * floating-point `float`\n",
        "* strings `str`\n",
        "* boolean values [bool](https://)\n",
        "* lists and dicts"
      ]
    },
    {
      "cell_type": "markdown",
      "source": [
        "## 3.1 Zahlen"
      ],
      "metadata": {
        "id": "BjQkkz6d-R7I"
      }
    },
    {
      "cell_type": "code",
      "execution_count": null,
      "metadata": {
        "id": "Di1epTZC4Zkb"
      },
      "outputs": [],
      "source": [
        "# int\n",
        "x = 1"
      ]
    },
    {
      "cell_type": "code",
      "execution_count": null,
      "metadata": {
        "collapsed": true,
        "id": "Q5ODnSRE4Zkc"
      },
      "outputs": [],
      "source": [
        "# float\n",
        "x = 1.0"
      ]
    },
    {
      "cell_type": "code",
      "execution_count": null,
      "metadata": {
        "id": "ft3vnhG44Zkd"
      },
      "outputs": [],
      "source": [
        "# bool\n",
        "x = True"
      ]
    },
    {
      "cell_type": "code",
      "source": [
        "# das ergebnis einer operation hat immer den größten datentypen der beteiligten operanden.\n",
        "# mit \"größe\" ist der bereich der gültigen werte gemeint\n",
        "# hier wird aus der summe ein float, weil float der größte datentyp ist\n",
        "# int\n",
        "a = 1\n",
        "# float\n",
        "b = 2.0\n",
        "c = a + b\n",
        "print(\"Das Ergebnis ist\", c)"
      ],
      "metadata": {
        "colab": {
          "base_uri": "https://localhost:8080/"
        },
        "id": "SswebM2b9tYq",
        "outputId": "c0b192cb-1eb6-45f6-8a60-0b71317c2d06"
      },
      "execution_count": null,
      "outputs": [
        {
          "output_type": "stream",
          "name": "stdout",
          "text": [
            "Das Ergebnis ist 3.0\n"
          ]
        }
      ]
    },
    {
      "cell_type": "markdown",
      "metadata": {
        "id": "w8COcklW4Zke"
      },
      "source": [
        "## 3.2 Strings"
      ]
    },
    {
      "cell_type": "code",
      "execution_count": null,
      "metadata": {
        "id": "ixRDfJE14Zke"
      },
      "outputs": [],
      "source": [
        "# deklaration mit einfachen oder doppeltem anführungszeichen\n",
        "str1 = 'apple'\n",
        "str2 = \"apple\""
      ]
    },
    {
      "cell_type": "code",
      "source": [
        "# string operation: concatenation\n",
        "a = \"hallo\"\n",
        "print(a + \"!\")"
      ],
      "metadata": {
        "colab": {
          "base_uri": "https://localhost:8080/"
        },
        "id": "vQEBtbL7-umO",
        "outputId": "3088c90e-e7e8-4c68-d9f7-4bcda490d404"
      },
      "execution_count": null,
      "outputs": [
        {
          "output_type": "stream",
          "name": "stdout",
          "text": [
            "hallo!\n"
          ]
        }
      ]
    },
    {
      "cell_type": "code",
      "source": [
        "# string operation: vergleich\n",
        "a = \"hallo\"\n",
        "b = \" hallo\"\n",
        "print(a == b)"
      ],
      "metadata": {
        "colab": {
          "base_uri": "https://localhost:8080/"
        },
        "id": "fLaH3_KlAS_G",
        "outputId": "60cb4d29-86bb-4958-fab5-8b820841378e"
      },
      "execution_count": null,
      "outputs": [
        {
          "output_type": "stream",
          "name": "stdout",
          "text": [
            "False\n"
          ]
        }
      ]
    },
    {
      "cell_type": "code",
      "source": [
        "# string operation: strings sind nicht veränderbar\n",
        "a = \"hallo\"\n",
        "a[1] = \"!\"\n",
        "print(a)"
      ],
      "metadata": {
        "colab": {
          "base_uri": "https://localhost:8080/",
          "height": 225
        },
        "id": "nvkTjlAVAt3U",
        "outputId": "70209b07-97b7-4140-97e7-eef2e66f85cb"
      },
      "execution_count": null,
      "outputs": [
        {
          "output_type": "error",
          "ename": "TypeError",
          "evalue": "ignored",
          "traceback": [
            "\u001b[0;31m---------------------------------------------------------------------------\u001b[0m",
            "\u001b[0;31mTypeError\u001b[0m                                 Traceback (most recent call last)",
            "\u001b[0;32m<ipython-input-13-2ffd3280b98f>\u001b[0m in \u001b[0;36m<cell line: 3>\u001b[0;34m()\u001b[0m\n\u001b[1;32m      1\u001b[0m \u001b[0;31m# string operation: elementweiser zugriff\u001b[0m\u001b[0;34m\u001b[0m\u001b[0;34m\u001b[0m\u001b[0m\n\u001b[1;32m      2\u001b[0m \u001b[0ma\u001b[0m \u001b[0;34m=\u001b[0m \u001b[0;34m\"hallo\"\u001b[0m\u001b[0;34m\u001b[0m\u001b[0;34m\u001b[0m\u001b[0m\n\u001b[0;32m----> 3\u001b[0;31m \u001b[0ma\u001b[0m\u001b[0;34m[\u001b[0m\u001b[0;36m1\u001b[0m\u001b[0;34m]\u001b[0m \u001b[0;34m=\u001b[0m \u001b[0;34m\"!\"\u001b[0m\u001b[0;34m\u001b[0m\u001b[0;34m\u001b[0m\u001b[0m\n\u001b[0m\u001b[1;32m      4\u001b[0m \u001b[0mprint\u001b[0m\u001b[0;34m(\u001b[0m\u001b[0ma\u001b[0m\u001b[0;34m)\u001b[0m\u001b[0;34m\u001b[0m\u001b[0;34m\u001b[0m\u001b[0m\n",
            "\u001b[0;31mTypeError\u001b[0m: 'str' object does not support item assignment"
          ]
        }
      ]
    },
    {
      "cell_type": "markdown",
      "metadata": {
        "id": "XhrtTFtO4Zkf"
      },
      "source": [
        "## 3.3 Boolean Values\n",
        "Boolen values sind Wahrheitswerte, können also entweder ```False``` oder ```True``` sein. Sie werden zum Kontrollfluss eingesetzt:\n",
        "\n",
        "```\n",
        "if(x):\n",
        "  print(\"Pfad 1\")\n",
        "else:\n",
        "  print(\"Pfad 2\")\n",
        "```"
      ]
    },
    {
      "cell_type": "code",
      "execution_count": null,
      "metadata": {
        "id": "RfQSFcvq4Zkf"
      },
      "outputs": [],
      "source": [
        "# binäre werte: True und False\n",
        "a = True\n",
        "b = False"
      ]
    },
    {
      "cell_type": "code",
      "execution_count": null,
      "metadata": {
        "colab": {
          "base_uri": "https://localhost:8080/"
        },
        "id": "VYk2McnS4Zkf",
        "outputId": "690a42cf-9a13-4fa3-c60e-676ed315e0c0"
      },
      "outputs": [
        {
          "output_type": "stream",
          "name": "stdout",
          "text": [
            "True\n",
            "False\n",
            "False\n",
            "False\n",
            "True\n"
          ]
        }
      ],
      "source": [
        "# durch boolesche operatoren beliebig kombinierbar\n",
        "print(a or b)\n",
        "print(a and b)\n",
        "print(not a)\n",
        "print(not(a or b))\n",
        "print(not(a and b))"
      ]
    },
    {
      "cell_type": "markdown",
      "source": [
        "## 3.4 Listen"
      ],
      "metadata": {
        "id": "URsI3T0c_QsW"
      }
    },
    {
      "cell_type": "code",
      "execution_count": null,
      "metadata": {
        "id": "NU5Si_z74Zkd"
      },
      "outputs": [],
      "source": [
        "# listen können beliebige objekte halten\n",
        "x = [0, 1, 3, 'hallo']"
      ]
    },
    {
      "cell_type": "code",
      "source": [
        "# elementweiser zugriff\n",
        "x[1] = 3\n",
        "print(x[1])"
      ],
      "metadata": {
        "colab": {
          "base_uri": "https://localhost:8080/"
        },
        "id": "Nh9uvxfXBAPT",
        "outputId": "503997e3-3b74-4e38-cb96-41d10f6c02dd"
      },
      "execution_count": null,
      "outputs": [
        {
          "output_type": "stream",
          "name": "stdout",
          "text": [
            "3\n"
          ]
        }
      ]
    },
    {
      "cell_type": "code",
      "source": [
        "# element anhängen. -1 ist das letze element, -2 das vorletzte, etc\n",
        "print(x[-1])\n",
        "print(\"füge neues element ein\")\n",
        "x.append(\"letztes element\")\n",
        "print(x[-1])"
      ],
      "metadata": {
        "colab": {
          "base_uri": "https://localhost:8080/"
        },
        "id": "kbo-5rETBJMl",
        "outputId": "9c730152-1676-4a9d-f5e0-428007d2e3ed"
      },
      "execution_count": null,
      "outputs": [
        {
          "output_type": "stream",
          "name": "stdout",
          "text": [
            "letztes element\n",
            "füge neues element ein\n",
            "letztes element\n"
          ]
        }
      ]
    },
    {
      "cell_type": "markdown",
      "metadata": {
        "id": "fCaDrCwi4Zkg"
      },
      "source": [
        "## 3.4 Dicts"
      ]
    },
    {
      "cell_type": "markdown",
      "metadata": {
        "id": "t-NINbTB4Zkg"
      },
      "source": [
        "Dictionaries sind hash tables. Sie ermöglichen einen direkten Zugriff auf die Elemente, wenn diese einen im Dict eindeutigen Schlüssel haben."
      ]
    },
    {
      "cell_type": "code",
      "execution_count": null,
      "metadata": {
        "collapsed": true,
        "colab": {
          "base_uri": "https://localhost:8080/"
        },
        "id": "dCfJMpgt4Zkh",
        "outputId": "d6a630b7-521c-4760-c2d0-b5b1da27d0d2"
      },
      "outputs": [
        {
          "output_type": "stream",
          "name": "stdout",
          "text": [
            "a fruit\n"
          ]
        }
      ],
      "source": [
        "# deklaration und zugriff\n",
        "d = {\"apple\": \"fruit\", \"parsely\": \"herb\", \"monkey\": \"mammal\"}\n",
        "print(d[\"apple\"])"
      ]
    },
    {
      "cell_type": "code",
      "execution_count": null,
      "metadata": {
        "colab": {
          "base_uri": "https://localhost:8080/"
        },
        "id": "FtnXhDhW4Zkh",
        "outputId": "1f398a05-5774-4bb9-ec8c-ea5bbe6a10c3"
      },
      "outputs": [
        {
          "output_type": "stream",
          "name": "stdout",
          "text": [
            "wwhite01\n"
          ]
        }
      ],
      "source": [
        "# dicts können auch geschachtelt sein und komplexere datentypen haben\n",
        "d = {\n",
        "    \"type\": 0,\n",
        "    \"parameters\": {\n",
        "        \"data\": [0, 1, 2, 3],\n",
        "        \"user\": \"wwhite01\",\n",
        "    }\n",
        "}\n",
        "print(d[\"parameters\"][\"user\"])"
      ]
    },
    {
      "cell_type": "markdown",
      "metadata": {
        "id": "TnVvPT3V4Zkh"
      },
      "source": [
        "## 3.5 Methoden- und Funktionsaufrufe\n",
        "\n",
        "\n"
      ]
    },
    {
      "cell_type": "markdown",
      "metadata": {
        "id": "ctsNxYhw4Zkh"
      },
      "source": [
        "Es gibt zwei Möglichkeiten Funktionen in Python aufzurufen:\n",
        "1. durch vordefinierte infix Operatoren\n",
        "2. durch den Funktionsnamen mit Argumenten in Klammern\n"
      ]
    },
    {
      "cell_type": "code",
      "execution_count": null,
      "metadata": {
        "id": "OtAo6m264Zki",
        "colab": {
          "base_uri": "https://localhost:8080/"
        },
        "outputId": "69ece708-a446-4b3f-87fe-52aea77d03fe"
      },
      "outputs": [
        {
          "output_type": "execute_result",
          "data": {
            "text/plain": [
              "3"
            ]
          },
          "metadata": {},
          "execution_count": 2
        }
      ],
      "source": [
        "# infix bedeutet dass der operator zwischen den operanden steht\n",
        "1 + 2"
      ]
    },
    {
      "cell_type": "code",
      "execution_count": null,
      "metadata": {
        "id": "e2ffXpyW4Zki"
      },
      "outputs": [],
      "source": [
        "# aufruf als funktionsname und argument\n",
        "abs(-1)"
      ]
    },
    {
      "cell_type": "markdown",
      "metadata": {
        "id": "FYEaNsY74Zkl"
      },
      "source": [
        "#3.6 Besondere Werte\n",
        "\n",
        "```None``` stellt einen Null-Objekt dar, also ein nicht definiertes Objekt."
      ]
    },
    {
      "cell_type": "code",
      "execution_count": null,
      "metadata": {
        "collapsed": true,
        "id": "UUU7DHhv4Zkm"
      },
      "outputs": [],
      "source": [
        "None"
      ]
    },
    {
      "cell_type": "markdown",
      "metadata": {
        "id": "EYttsbFl4Zkm"
      },
      "source": [
        "## 3.7 Funktionsdefinition\n",
        "Schlüsselwort ```def``` markiert den Beginn einer Funktionsdefinition. Es folgt der Name und in runden Klammern die Argumente. Der Funktionsname muss im Gültigkeitsbereich einmalig sein. Das Schlüsselwort ```return``` markiert den Rückgabewert der Funktion. Fehlt ein ```return```, so gibt die Funktion immer ```None``` zurück."
      ]
    },
    {
      "cell_type": "code",
      "execution_count": null,
      "metadata": {
        "collapsed": true,
        "id": "SM1ZSt0C4Zkm"
      },
      "outputs": [],
      "source": [
        "# funktion namens plus mit zwei argumenten\n",
        "def plus(a, b):\n",
        "    return a + b"
      ]
    },
    {
      "cell_type": "code",
      "execution_count": null,
      "metadata": {
        "id": "yvIAKIj-4Zkn"
      },
      "outputs": [],
      "source": [
        "# funktionsaufruf\n",
        "plus(3, 4)"
      ]
    },
    {
      "cell_type": "code",
      "execution_count": null,
      "metadata": {
        "collapsed": true,
        "id": "ZhVUWCpD4Zkn"
      },
      "outputs": [],
      "source": [
        "def plus(a, b):\n",
        "    a + b"
      ]
    },
    {
      "cell_type": "code",
      "execution_count": null,
      "metadata": {
        "collapsed": true,
        "id": "XT_Dy7WL4Zko"
      },
      "outputs": [],
      "source": [
        "plus(3, 4)"
      ]
    },
    {
      "cell_type": "markdown",
      "metadata": {
        "id": "ecL62Roj4Zkp"
      },
      "source": [
        "What happened? All functions return *something*, even if you don't specify it. If you don't specify a return value, then it will default to returning `None`."
      ]
    },
    {
      "cell_type": "code",
      "execution_count": null,
      "metadata": {
        "id": "AOOD-25P4Zkp"
      },
      "outputs": [],
      "source": [
        "\"a\" + 1"
      ]
    },
    {
      "cell_type": "markdown",
      "metadata": {
        "id": "CUyjKRdE4Zkp"
      },
      "source": [
        "<div style=\"background-color: lightgrey\">\n",
        "<h2>Sidebar 2-1: How to Read Python Error Messages</h2>\n",
        "\n",
        "<p>\n",
        "Python error messages\n",
        "<p>\n",
        "<tt>TypeError: Can't convert 'int' object to str implicitly</tt>\n",
        "</p>\n",
        "\n",
        "<p>Above the error message is the \"traceback\" also called the \"call stack\". This is a representation of the sequence of procedure calls that lead to the error. If the procedure call originated from code from a file, the filename would be listed after the word \"File\" on each line. If the procedure call originated from a notebook cell, then the word \"ipython-input-#-HEX\".\n",
        "</p>\n",
        "</div>"
      ]
    },
    {
      "cell_type": "markdown",
      "metadata": {
        "id": "SuAvKNOe4Zkp"
      },
      "source": [
        "## 1.2 Equality"
      ]
    },
    {
      "cell_type": "markdown",
      "metadata": {
        "id": "1zp6-keH4Zkp"
      },
      "source": [
        "### 1.2.1 =="
      ]
    },
    {
      "cell_type": "code",
      "execution_count": null,
      "metadata": {
        "id": "xQvDmLrz4Zkq"
      },
      "outputs": [],
      "source": [
        "1 == 1"
      ]
    },
    {
      "cell_type": "markdown",
      "metadata": {
        "id": "yKpE0hOT4Zkq"
      },
      "source": [
        "### 1.2.2 is"
      ]
    },
    {
      "cell_type": "code",
      "execution_count": null,
      "metadata": {
        "id": "RQOGgC__4Zkq"
      },
      "outputs": [],
      "source": [
        "[] is []"
      ]
    },
    {
      "cell_type": "code",
      "execution_count": null,
      "metadata": {
        "id": "aVNt0M634Zkq"
      },
      "outputs": [],
      "source": [
        "list() is list()"
      ]
    },
    {
      "cell_type": "code",
      "execution_count": null,
      "metadata": {
        "id": "JYCKHXs-4Zkq"
      },
      "outputs": [],
      "source": [
        "tuple() is tuple()"
      ]
    },
    {
      "cell_type": "code",
      "execution_count": null,
      "metadata": {
        "id": "9LEl6ohy4Zkq"
      },
      "outputs": [],
      "source": [
        "57663463467 is 57663463467"
      ]
    },
    {
      "cell_type": "markdown",
      "metadata": {
        "id": "8pajzzOi4Zkr"
      },
      "source": [
        "# 2. Advanced Topics"
      ]
    },
    {
      "cell_type": "markdown",
      "metadata": {
        "id": "3KXsOVkX4Zkr"
      },
      "source": [
        "The Zen of Python:"
      ]
    },
    {
      "cell_type": "code",
      "execution_count": null,
      "metadata": {
        "id": "5wTeRB3F4Zkr"
      },
      "outputs": [],
      "source": [
        "import this"
      ]
    },
    {
      "cell_type": "markdown",
      "metadata": {
        "id": "0w3yuhIf4Zkr"
      },
      "source": [
        "Python evolves. But there are limits:"
      ]
    },
    {
      "cell_type": "code",
      "execution_count": null,
      "metadata": {
        "id": "o03rZHAf4Zkr"
      },
      "outputs": [],
      "source": [
        "from __future__ import braces"
      ]
    },
    {
      "cell_type": "markdown",
      "metadata": {
        "id": "7smYFblD4Zkr"
      },
      "source": [
        "## 2.1 Python Warts"
      ]
    },
    {
      "cell_type": "markdown",
      "metadata": {
        "id": "ASZu_U4_4Zkr"
      },
      "source": [
        "* http://web.archive.org/web/20031002184114/www.amk.ca/python/writing/warts.html\n",
        "*\n",
        "* https://www.python.org/dev/peps/pep-3099/"
      ]
    },
    {
      "cell_type": "markdown",
      "metadata": {
        "id": "jvfhz5x24Zkr"
      },
      "source": [
        "## 2.2 Scope of variables"
      ]
    },
    {
      "cell_type": "markdown",
      "metadata": {
        "id": "FKdvLG1M4Zks"
      },
      "source": [
        "Is not always clear:"
      ]
    },
    {
      "cell_type": "code",
      "execution_count": null,
      "metadata": {
        "id": "ApOUG8iM4Zks"
      },
      "outputs": [],
      "source": [
        "y = 0\n",
        "for x in range(10):\n",
        "    y = x"
      ]
    },
    {
      "cell_type": "code",
      "execution_count": null,
      "metadata": {
        "id": "d-0Q22J94Zks"
      },
      "outputs": [],
      "source": [
        "x"
      ]
    },
    {
      "cell_type": "code",
      "execution_count": null,
      "metadata": {
        "id": "oJcw8Zkf4Zks"
      },
      "outputs": [],
      "source": [
        "[x for x in range(10, 20)]"
      ]
    },
    {
      "cell_type": "code",
      "execution_count": null,
      "metadata": {
        "id": "uRM-yCCv4Zks"
      },
      "outputs": [],
      "source": [
        "x"
      ]
    },
    {
      "cell_type": "markdown",
      "metadata": {
        "id": "L_SLo1No4Zkt"
      },
      "source": [
        "## 2.3 Scope"
      ]
    },
    {
      "cell_type": "markdown",
      "metadata": {
        "id": "qvsG5F0K4Zkt"
      },
      "source": [
        "Python follows the LEGB Rule (after https://www.amazon.com/dp/0596513984/):\n",
        "\n",
        "* L, Local: Names assigned in any way within a function (def or lambda)), and not declared global in that function.\n",
        "* E, Enclosing function locals: Name in the local scope of any and all enclosing functions (def or lambda), from inner to outer.\n",
        "* G, Global (module): Names assigned at the top-level of a module file, or declared global in a def within the file.\n",
        "* B, Built-in (Python): Names preassigned in the built-in names module : open, range, SyntaxError,..."
      ]
    },
    {
      "cell_type": "code",
      "execution_count": null,
      "metadata": {
        "id": "wYGd1URa4Zkt"
      },
      "outputs": [],
      "source": [
        "x = 3\n",
        "def foo():\n",
        "    x=4\n",
        "    def bar():\n",
        "        print(x)  # Accesses x from foo's scope\n",
        "    bar()  # Prints 4\n",
        "    x=5\n",
        "    bar()  # Prints 5"
      ]
    },
    {
      "cell_type": "code",
      "execution_count": null,
      "metadata": {
        "id": "kRq7mPlr4Zkt"
      },
      "outputs": [],
      "source": [
        "foo()"
      ]
    },
    {
      "cell_type": "markdown",
      "metadata": {
        "id": "VOjkHTsI4Zkt"
      },
      "source": [
        "See [scope_resolution_legb_rule.ipynb](scope_resolution_legb_rule.ipynb) for some additional readings on scope."
      ]
    },
    {
      "cell_type": "markdown",
      "metadata": {
        "id": "8ICgs0zJ4Zkt"
      },
      "source": [
        "## 2.4 Generators"
      ]
    },
    {
      "cell_type": "code",
      "execution_count": null,
      "metadata": {
        "collapsed": true,
        "id": "btoGy4aV4Zkt"
      },
      "outputs": [],
      "source": [
        "def function():\n",
        "    for i in range(10):\n",
        "        yield i"
      ]
    },
    {
      "cell_type": "code",
      "execution_count": null,
      "metadata": {
        "id": "blxyOMCM4Zku"
      },
      "outputs": [],
      "source": [
        "function()"
      ]
    },
    {
      "cell_type": "code",
      "execution_count": null,
      "metadata": {
        "id": "JoFflld14Zku"
      },
      "outputs": [],
      "source": [
        "for y in function():\n",
        "    print(y)"
      ]
    },
    {
      "cell_type": "markdown",
      "metadata": {
        "id": "KWrVkVXl4Zku"
      },
      "source": [
        "## 2.5 Default arguments"
      ]
    },
    {
      "cell_type": "code",
      "execution_count": null,
      "metadata": {
        "collapsed": true,
        "id": "KcCdseMK4Zku"
      },
      "outputs": [],
      "source": [
        "def do_something(a, b, c):\n",
        "    return (a, b, c)"
      ]
    },
    {
      "cell_type": "code",
      "execution_count": null,
      "metadata": {
        "id": "gFCaTxYX4Zku"
      },
      "outputs": [],
      "source": [
        "do_something(1, 2, 3)"
      ]
    },
    {
      "cell_type": "code",
      "execution_count": null,
      "metadata": {
        "collapsed": true,
        "id": "wLc1Peak4Zku"
      },
      "outputs": [],
      "source": [
        "def do_something_else(a=1, b=2, c=3):\n",
        "    return (a, b, c)"
      ]
    },
    {
      "cell_type": "code",
      "execution_count": null,
      "metadata": {
        "id": "u2dOvwJX4Zkv"
      },
      "outputs": [],
      "source": [
        "do_something_else()"
      ]
    },
    {
      "cell_type": "code",
      "execution_count": null,
      "metadata": {
        "collapsed": true,
        "id": "yxtzEQdO4Zkv"
      },
      "outputs": [],
      "source": [
        "def some_function(start=[]):\n",
        "    start.append(1)\n",
        "    return start"
      ]
    },
    {
      "cell_type": "code",
      "execution_count": null,
      "metadata": {
        "collapsed": true,
        "id": "ncqFTO0L4Zkv"
      },
      "outputs": [],
      "source": [
        "result = some_function()"
      ]
    },
    {
      "cell_type": "code",
      "execution_count": null,
      "metadata": {
        "id": "O4h5qazB4Zkv"
      },
      "outputs": [],
      "source": [
        "result"
      ]
    },
    {
      "cell_type": "code",
      "execution_count": null,
      "metadata": {
        "collapsed": true,
        "id": "4chDyazX4Zkv"
      },
      "outputs": [],
      "source": [
        "result.append(2)"
      ]
    },
    {
      "cell_type": "code",
      "execution_count": null,
      "metadata": {
        "collapsed": true,
        "id": "MbBcRttk4Zkv"
      },
      "outputs": [],
      "source": [
        "other_result = some_function()"
      ]
    },
    {
      "cell_type": "code",
      "execution_count": null,
      "metadata": {
        "id": "ceuVEYuT4Zkv"
      },
      "outputs": [],
      "source": [
        "other_result"
      ]
    },
    {
      "cell_type": "markdown",
      "metadata": {
        "id": "Laay0E4l4Zkv"
      },
      "source": [
        "## 3.2 List comprehension"
      ]
    },
    {
      "cell_type": "markdown",
      "metadata": {
        "id": "vozGdLlf4Zkw"
      },
      "source": [
        "\"List comprehension\" is the idea of writing some code inside of a list that will generate a list.\n",
        "\n",
        "Consider the following:"
      ]
    },
    {
      "cell_type": "code",
      "execution_count": null,
      "metadata": {
        "id": "Ho6UHE9u4Zkw"
      },
      "outputs": [],
      "source": [
        "[x ** 2 for x in range(10)]"
      ]
    },
    {
      "cell_type": "code",
      "execution_count": null,
      "metadata": {
        "id": "nITlyPSR4Zkw"
      },
      "outputs": [],
      "source": [
        "temp_list = []\n",
        "for x in range(10):\n",
        "    temp_list.append(x ** 2)\n",
        "temp_list"
      ]
    },
    {
      "cell_type": "markdown",
      "metadata": {
        "id": "ZROHVdJu4Zkw"
      },
      "source": [
        "But list comprehension is much more concise."
      ]
    },
    {
      "cell_type": "markdown",
      "metadata": {
        "id": "4HPhobwB4Zkw"
      },
      "source": [
        "## 3.3 Plotting"
      ]
    },
    {
      "cell_type": "code",
      "execution_count": null,
      "metadata": {
        "collapsed": true,
        "id": "6Az12Ose4Zkw"
      },
      "outputs": [],
      "source": [
        "%matplotlib notebook"
      ]
    },
    {
      "cell_type": "markdown",
      "metadata": {
        "id": "QVZM57D24Zkw"
      },
      "source": [
        "After the magic, we then need to import the matplotlib library:"
      ]
    },
    {
      "cell_type": "code",
      "execution_count": null,
      "metadata": {
        "collapsed": true,
        "id": "J18BsJRt4Zkx"
      },
      "outputs": [],
      "source": [
        "import matplotlib.pyplot as plt"
      ]
    },
    {
      "cell_type": "markdown",
      "metadata": {
        "id": "IoHdQxEo4Zkx"
      },
      "source": [
        "Python has many, many libraries. We will use a few over the course of the semester.\n",
        "\n",
        "To create a simple line plot, just give a list of y-values to the function plt.plot()."
      ]
    },
    {
      "cell_type": "code",
      "execution_count": null,
      "metadata": {
        "collapsed": true,
        "id": "kFWeEnHm4Zkx"
      },
      "outputs": [],
      "source": [
        "plt.plot([5, 8, 2, 6, 1, 8, 2, 3, 4, 5, 6])"
      ]
    },
    {
      "cell_type": "markdown",
      "metadata": {
        "id": "vbNI3ca94Zkx"
      },
      "source": [
        "But you should never create a plot that doesn't have labels on the x and y axises, and should always have a title. Read the documentation on matplotlib and add labels and a title to the plot above:\n",
        "\n",
        "http://matplotlib.org/api/pyplot_api.html\n",
        "\n",
        "Another commonly used library (especially with matplotlib is numpy). Often imported as:"
      ]
    },
    {
      "cell_type": "markdown",
      "metadata": {
        "id": "hevPhVbO4Zkx"
      },
      "source": [
        "## 2.6 Closures"
      ]
    },
    {
      "cell_type": "markdown",
      "metadata": {
        "id": "13LxIKCr4Zkx"
      },
      "source": [
        "Are functions that capture some of the local bindings to variables."
      ]
    },
    {
      "cell_type": "code",
      "execution_count": null,
      "metadata": {
        "collapsed": true,
        "id": "7OPc2k2E4Zky"
      },
      "outputs": [],
      "source": [
        "def return_a_closure():\n",
        "    dict = {}\n",
        "    def hidden(operator, value, other=None):\n",
        "        if operator == \"add\":\n",
        "            dict[value] = other\n",
        "        else:\n",
        "            return dict[value]\n",
        "    return hidden"
      ]
    },
    {
      "cell_type": "code",
      "execution_count": null,
      "metadata": {
        "collapsed": true,
        "id": "N1EWIyAJ4Zky"
      },
      "outputs": [],
      "source": [
        "thing = return_a_closure()"
      ]
    },
    {
      "cell_type": "code",
      "execution_count": null,
      "metadata": {
        "collapsed": true,
        "id": "UgeK8w-R4Zky"
      },
      "outputs": [],
      "source": [
        "thing(\"add\", \"apple\", 42)"
      ]
    },
    {
      "cell_type": "code",
      "execution_count": null,
      "metadata": {
        "id": "q1Ri_8Js4Zky"
      },
      "outputs": [],
      "source": [
        "thing(\"get\", \"apple\")"
      ]
    },
    {
      "cell_type": "code",
      "execution_count": null,
      "metadata": {
        "id": "icy-8F5v4Zky"
      },
      "outputs": [],
      "source": [
        "thing.dict"
      ]
    },
    {
      "cell_type": "markdown",
      "metadata": {
        "id": "4pvBPzWa4Zky"
      },
      "source": [
        "Where is dict?\n",
        "\n",
        "See http://www.programiz.com/python-programming/closure for more examples."
      ]
    }
  ],
  "metadata": {
    "kernelspec": {
      "display_name": "Python 3",
      "language": "python",
      "name": "python3"
    },
    "language_info": {
      "codemirror_mode": {
        "name": "ipython",
        "version": 3
      },
      "file_extension": ".py",
      "mimetype": "text/x-python",
      "name": "python",
      "nbconvert_exporter": "python",
      "pygments_lexer": "ipython3",
      "version": "3.5.2"
    },
    "colab": {
      "provenance": []
    }
  },
  "nbformat": 4,
  "nbformat_minor": 0
}