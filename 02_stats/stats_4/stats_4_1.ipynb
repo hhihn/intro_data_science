{
  "metadata": {
    "language_info": {
      "codemirror_mode": {
        "name": "python",
        "version": 3
      },
      "file_extension": ".py",
      "mimetype": "text/x-python",
      "name": "python",
      "nbconvert_exporter": "python",
      "pygments_lexer": "ipython3",
      "version": "3.8"
    },
    "kernelspec": {
      "name": "python",
      "display_name": "Python (Pyodide)",
      "language": "python"
    }
  },
  "nbformat_minor": 4,
  "nbformat": 4,
  "cells": [
    {
      "cell_type": "markdown",
      "source": "# Übung \"Regression & Iferenzstatistik\"\n#### SL \"Grundlagen Data Science\" im WS 23/24 an der HTW Berlin\n#### Heinke Hihn",
      "metadata": {}
    },
    {
      "cell_type": "markdown",
      "source": "# 1. Regression\n1. Laden Sie die Daten in`cereal.csv` und betrachten Sie die ersten Zeilen und Spalten. Weitere Informationen finden Sie in `cereal_readme.txt`\n2. Erstellen Sie ein einfaches Regressionsmodell, das den Wert von `rating` durch die unabhängige Variable `sugars` vorhersagt.\n\n    a. Wie groß ist der Vorhersagefehler des Modells?\n    \n    b. Wie groß ist der r-quadrat Wert des Modells?\n    \n    c. Wie interpretieren Sie diese beiden Werte? Ist das Modell nützlich?\n    \n    b. Visualisieren Sie das Modell.\n    \n3. Erstellen Sie ein multiples Regressionsmodell, das den Wert von `rating` durch alle geeigneten unabhängigen Variablen vorhersagt.\n\n    a. Wie groß ist der Vorhersagefeholer des Modells?\n    \n    b. Betrachten Sie die Regressionskoeffizienten des Modells. Basierend auf diesen Werten, welche Variablen würden Sie aus dem Modell entfernen? Wie beeinflusst dies die Vorhersagekraft des Modells?",
      "metadata": {}
    },
    {
      "cell_type": "code",
      "source": "import pandas as pd\n",
      "metadata": {
        "trusted": true
      },
      "execution_count": null,
      "outputs": []
    },
    {
      "cell_type": "code",
      "source": "from sklearn.linear_model import LinearRegression\n",
      "metadata": {
        "trusted": true
      },
      "execution_count": null,
      "outputs": []
    },
    {
      "cell_type": "code",
      "source": "import numpy as np\nfrom matplotlib import pyplot as plt\n",
      "metadata": {
        "trusted": true
      },
      "execution_count": null,
      "outputs": []
    },
    {
      "cell_type": "markdown",
      "source": "# 2. Zweiseitiger t-Test\nWir wollen herausfinden, ob der gemessene Durchschnittsverbrauch der Autos den Herstellerangeben entspricht.\n1. Laden Sie die Daten in `milage.csv`. Sie enthalten Messungen des durchschnittlichen Kraftstoffverbrauchs pro 100 Kilometer für Fahrzeuge der gleichen Bauart.\n\n2. Der t-Test setzt vorraus, dass die Daten normalverteilt sind. Wir überprüfen dies mit einem visuellen Test, indem wir die Daten als Histogram darstellen. Erstellen Sie ein Histogram mit 100 bins und beurteilen Sie, ob die Daten annähernd normalverteilt sind.\n\n3. Formulieren Sie für die obige Fragestellung das Hypothesenpaar, welches Sie mit einem zweiseitigen t-Test überprüfen können.\n\n4. Führen Sie einen zweiseitigen t-Test durch. Nehmen Sie als Referenzwert für den Verbrauch 7.5 an. Können Sie die Nullhypothese ablehnen? Die notwenidge Funktionen finden Sie in `scipy.stats`",
      "metadata": {}
    },
    {
      "cell_type": "code",
      "source": "import pandas as pd\nimport numpy as np\n",
      "metadata": {
        "trusted": true
      },
      "execution_count": null,
      "outputs": []
    },
    {
      "cell_type": "code",
      "source": "from scipy.stats import ttest_1samp\nx = [3.75, 3.0, 4.0, 3.5, 3.25, 3.5, 3.75, 5.0, 2.0]\nttest_1samp(x, 3.5)\n\n",
      "metadata": {
        "trusted": true
      },
      "execution_count": 1,
      "outputs": [
        {
          "execution_count": 1,
          "output_type": "execute_result",
          "data": {
            "text/plain": "TtestResult(statistic=0.10355607461569917, pvalue=0.9200706182203949, df=8)"
          },
          "metadata": {}
        }
      ]
    },
    {
      "cell_type": "code",
      "source": "",
      "metadata": {},
      "execution_count": null,
      "outputs": []
    }
  ]
}