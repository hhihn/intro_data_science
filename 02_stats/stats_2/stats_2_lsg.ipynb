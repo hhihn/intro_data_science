{
  "metadata": {
    "language_info": {
      "codemirror_mode": {
        "name": "python",
        "version": 3
      },
      "file_extension": ".py",
      "mimetype": "text/x-python",
      "name": "python",
      "nbconvert_exporter": "python",
      "pygments_lexer": "ipython3",
      "version": "3.8"
    },
    "kernelspec": {
      "name": "python",
      "display_name": "Python (Pyodide)",
      "language": "python"
    }
  },
  "nbformat_minor": 4,
  "nbformat": 4,
  "cells": [
    {
      "cell_type": "markdown",
      "source": "# Übung \"Grundlagen Statistik\"\n#### SL \"Grundlagen Data Science\" im WS 23/24 an der HTW Berlin\n#### Heinke Hihn",
      "metadata": {}
    },
    {
      "cell_type": "markdown",
      "source": "# 1. Korrelation\n1. Laden Sie die Daten in `cereal.csv` und betrachten Sie die ersten Zeilen und Spalten. Weitere Informationen finden Sie in `cereal_readme.txt`\n    1. Welche Merkmale gitb es? \n    2. Wie viele Samples hat die Stichprobe?\n4. Das Merkmal `rating` beinhaltet die von Konsumenten gegeben Wertung des Produkts. Mit welchem anderen Merkmal korreliert `rating` am stärksten nach dem Pearson Maß? Mit welchem am wenigsten? Beantworten Sie zur stärksten Korrelation die folgenden Fragen:\n    1. In welche Richtung ist diese Korrelation?\n    2. Wie würden Sie diese in Worten ausdrücken?\n    3. Stellen Sie die Korrelation grafisch als `scatter plot` da",
      "metadata": {}
    },
    {
      "cell_type": "code",
      "source": "import pandas as pd\n\ndata = pd.read_csv(\"cereal.csv\", delimiter=\",\")",
      "metadata": {
        "trusted": true
      },
      "execution_count": 6,
      "outputs": [
        {
          "execution_count": 6,
          "output_type": "execute_result",
          "data": {
            "text/plain": "(77, 16)"
          },
          "metadata": {}
        }
      ]
    },
    {
      "cell_type": "code",
      "source": "data.shape",
      "metadata": {},
      "execution_count": null,
      "outputs": []
    },
    {
      "cell_type": "code",
      "source": "data.head()",
      "metadata": {
        "trusted": true
      },
      "execution_count": 7,
      "outputs": [
        {
          "execution_count": 7,
          "output_type": "execute_result",
          "data": {
            "text/plain": "                        name mfr type  calories  protein  fat  sodium  fiber  \\\n0                  100% Bran   N    C        70        4    1     130   10.0   \n1          100% Natural Bran   Q    C       120        3    5      15    2.0   \n2                   All-Bran   K    C        70        4    1     260    9.0   \n3  All-Bran with Extra Fiber   K    C        50        4    0     140   14.0   \n4             Almond Delight   R    C       110        2    2     200    1.0   \n\n   carbo  sugars  potass  vitamins  shelf  weight  cups     rating  \n0    5.0       6     280        25      3     1.0  0.33  68.402973  \n1    8.0       8     135         0      3     1.0  1.00  33.983679  \n2    7.0       5     320        25      3     1.0  0.33  59.425505  \n3    8.0       0     330        25      3     1.0  0.50  93.704912  \n4   14.0       8      -1        25      3     1.0  0.75  34.384843  ",
            "text/html": "<div>\n<style scoped>\n    .dataframe tbody tr th:only-of-type {\n        vertical-align: middle;\n    }\n\n    .dataframe tbody tr th {\n        vertical-align: top;\n    }\n\n    .dataframe thead th {\n        text-align: right;\n    }\n</style>\n<table border=\"1\" class=\"dataframe\">\n  <thead>\n    <tr style=\"text-align: right;\">\n      <th></th>\n      <th>name</th>\n      <th>mfr</th>\n      <th>type</th>\n      <th>calories</th>\n      <th>protein</th>\n      <th>fat</th>\n      <th>sodium</th>\n      <th>fiber</th>\n      <th>carbo</th>\n      <th>sugars</th>\n      <th>potass</th>\n      <th>vitamins</th>\n      <th>shelf</th>\n      <th>weight</th>\n      <th>cups</th>\n      <th>rating</th>\n    </tr>\n  </thead>\n  <tbody>\n    <tr>\n      <th>0</th>\n      <td>100% Bran</td>\n      <td>N</td>\n      <td>C</td>\n      <td>70</td>\n      <td>4</td>\n      <td>1</td>\n      <td>130</td>\n      <td>10.0</td>\n      <td>5.0</td>\n      <td>6</td>\n      <td>280</td>\n      <td>25</td>\n      <td>3</td>\n      <td>1.0</td>\n      <td>0.33</td>\n      <td>68.402973</td>\n    </tr>\n    <tr>\n      <th>1</th>\n      <td>100% Natural Bran</td>\n      <td>Q</td>\n      <td>C</td>\n      <td>120</td>\n      <td>3</td>\n      <td>5</td>\n      <td>15</td>\n      <td>2.0</td>\n      <td>8.0</td>\n      <td>8</td>\n      <td>135</td>\n      <td>0</td>\n      <td>3</td>\n      <td>1.0</td>\n      <td>1.00</td>\n      <td>33.983679</td>\n    </tr>\n    <tr>\n      <th>2</th>\n      <td>All-Bran</td>\n      <td>K</td>\n      <td>C</td>\n      <td>70</td>\n      <td>4</td>\n      <td>1</td>\n      <td>260</td>\n      <td>9.0</td>\n      <td>7.0</td>\n      <td>5</td>\n      <td>320</td>\n      <td>25</td>\n      <td>3</td>\n      <td>1.0</td>\n      <td>0.33</td>\n      <td>59.425505</td>\n    </tr>\n    <tr>\n      <th>3</th>\n      <td>All-Bran with Extra Fiber</td>\n      <td>K</td>\n      <td>C</td>\n      <td>50</td>\n      <td>4</td>\n      <td>0</td>\n      <td>140</td>\n      <td>14.0</td>\n      <td>8.0</td>\n      <td>0</td>\n      <td>330</td>\n      <td>25</td>\n      <td>3</td>\n      <td>1.0</td>\n      <td>0.50</td>\n      <td>93.704912</td>\n    </tr>\n    <tr>\n      <th>4</th>\n      <td>Almond Delight</td>\n      <td>R</td>\n      <td>C</td>\n      <td>110</td>\n      <td>2</td>\n      <td>2</td>\n      <td>200</td>\n      <td>1.0</td>\n      <td>14.0</td>\n      <td>8</td>\n      <td>-1</td>\n      <td>25</td>\n      <td>3</td>\n      <td>1.0</td>\n      <td>0.75</td>\n      <td>34.384843</td>\n    </tr>\n  </tbody>\n</table>\n</div>"
          },
          "metadata": {}
        }
      ]
    },
    {
      "cell_type": "code",
      "source": "",
      "metadata": {
        "trusted": true
      },
      "execution_count": 4,
      "outputs": [
        {
          "name": "stderr",
          "text": "<ipython-input-4-f3d6645878f2>:1: FutureWarning: The default value of numeric_only in DataFrame.corr is deprecated. In a future version, it will default to False. Select only valid columns or specify the value of numeric_only to silence this warning.\n  data.corr(\"spearman\")\n",
          "output_type": "stream"
        },
        {
          "execution_count": 4,
          "output_type": "execute_result",
          "data": {
            "text/plain": "          calories   protein       fat    sodium     fiber     carbo  \\\ncalories  1.000000 -0.066970  0.535217  0.290765 -0.142801  0.080772   \nprotein  -0.066970  1.000000  0.230563 -0.114397  0.680429 -0.001905   \nfat       0.535217  0.230563  1.000000  0.034785  0.119626 -0.297343   \nsodium    0.290765 -0.114397  0.034785  1.000000 -0.168594  0.376945   \nfiber    -0.142801  0.680429  0.119626 -0.168594  1.000000 -0.148589   \ncarbo     0.080772 -0.001905 -0.297343  0.376945 -0.148589  1.000000   \nsugars    0.596302 -0.285281  0.331163 -0.014469 -0.109703 -0.455874   \npotass   -0.013812  0.711829  0.322380 -0.115369  0.852266 -0.197597   \nvitamins  0.314042 -0.006971  0.116609  0.439967 -0.042424  0.191142   \nshelf     0.152254  0.283255  0.236715 -0.145355  0.316592 -0.110154   \nweight    0.622532  0.293205  0.287783  0.263954  0.348492  0.119288   \ncups      0.047411 -0.362559 -0.245754  0.145612 -0.507596  0.319358   \nrating   -0.705181  0.511389 -0.443560 -0.242567  0.489379  0.241357   \n\n            sugars    potass  vitamins     shelf    weight      cups    rating  \ncalories  0.596302 -0.013812  0.314042  0.152254  0.622532  0.047411 -0.705181  \nprotein  -0.285281  0.711829 -0.006971  0.283255  0.293205 -0.362559  0.511389  \nfat       0.331163  0.322380  0.116609  0.236715  0.287783 -0.245754 -0.443560  \nsodium   -0.014469 -0.115369  0.439967 -0.145355  0.263954  0.145612 -0.242567  \nfiber    -0.109703  0.852266 -0.042424  0.316592  0.348492 -0.507596  0.489379  \ncarbo    -0.455874 -0.197597  0.191142 -0.110154  0.119288  0.319358  0.241357  \nsugars    1.000000 -0.007505  0.304366  0.073918  0.446818 -0.056660 -0.809203  \npotass   -0.007505  1.000000  0.007495  0.360447  0.429729 -0.535341  0.306618  \nvitamins  0.304366  0.007495  1.000000  0.269839  0.386684  0.077897 -0.332203  \nshelf     0.073918  0.360447  0.269839  1.000000  0.262832 -0.314471  0.069803  \nweight    0.446818  0.429729  0.386684  0.262832  1.000000 -0.285207 -0.278600  \ncups     -0.056660 -0.535341  0.077897 -0.314471 -0.285207  1.000000 -0.162819  \nrating   -0.809203  0.306618 -0.332203  0.069803 -0.278600 -0.162819  1.000000  ",
            "text/html": "<div>\n<style scoped>\n    .dataframe tbody tr th:only-of-type {\n        vertical-align: middle;\n    }\n\n    .dataframe tbody tr th {\n        vertical-align: top;\n    }\n\n    .dataframe thead th {\n        text-align: right;\n    }\n</style>\n<table border=\"1\" class=\"dataframe\">\n  <thead>\n    <tr style=\"text-align: right;\">\n      <th></th>\n      <th>calories</th>\n      <th>protein</th>\n      <th>fat</th>\n      <th>sodium</th>\n      <th>fiber</th>\n      <th>carbo</th>\n      <th>sugars</th>\n      <th>potass</th>\n      <th>vitamins</th>\n      <th>shelf</th>\n      <th>weight</th>\n      <th>cups</th>\n      <th>rating</th>\n    </tr>\n  </thead>\n  <tbody>\n    <tr>\n      <th>calories</th>\n      <td>1.000000</td>\n      <td>-0.066970</td>\n      <td>0.535217</td>\n      <td>0.290765</td>\n      <td>-0.142801</td>\n      <td>0.080772</td>\n      <td>0.596302</td>\n      <td>-0.013812</td>\n      <td>0.314042</td>\n      <td>0.152254</td>\n      <td>0.622532</td>\n      <td>0.047411</td>\n      <td>-0.705181</td>\n    </tr>\n    <tr>\n      <th>protein</th>\n      <td>-0.066970</td>\n      <td>1.000000</td>\n      <td>0.230563</td>\n      <td>-0.114397</td>\n      <td>0.680429</td>\n      <td>-0.001905</td>\n      <td>-0.285281</td>\n      <td>0.711829</td>\n      <td>-0.006971</td>\n      <td>0.283255</td>\n      <td>0.293205</td>\n      <td>-0.362559</td>\n      <td>0.511389</td>\n    </tr>\n    <tr>\n      <th>fat</th>\n      <td>0.535217</td>\n      <td>0.230563</td>\n      <td>1.000000</td>\n      <td>0.034785</td>\n      <td>0.119626</td>\n      <td>-0.297343</td>\n      <td>0.331163</td>\n      <td>0.322380</td>\n      <td>0.116609</td>\n      <td>0.236715</td>\n      <td>0.287783</td>\n      <td>-0.245754</td>\n      <td>-0.443560</td>\n    </tr>\n    <tr>\n      <th>sodium</th>\n      <td>0.290765</td>\n      <td>-0.114397</td>\n      <td>0.034785</td>\n      <td>1.000000</td>\n      <td>-0.168594</td>\n      <td>0.376945</td>\n      <td>-0.014469</td>\n      <td>-0.115369</td>\n      <td>0.439967</td>\n      <td>-0.145355</td>\n      <td>0.263954</td>\n      <td>0.145612</td>\n      <td>-0.242567</td>\n    </tr>\n    <tr>\n      <th>fiber</th>\n      <td>-0.142801</td>\n      <td>0.680429</td>\n      <td>0.119626</td>\n      <td>-0.168594</td>\n      <td>1.000000</td>\n      <td>-0.148589</td>\n      <td>-0.109703</td>\n      <td>0.852266</td>\n      <td>-0.042424</td>\n      <td>0.316592</td>\n      <td>0.348492</td>\n      <td>-0.507596</td>\n      <td>0.489379</td>\n    </tr>\n    <tr>\n      <th>carbo</th>\n      <td>0.080772</td>\n      <td>-0.001905</td>\n      <td>-0.297343</td>\n      <td>0.376945</td>\n      <td>-0.148589</td>\n      <td>1.000000</td>\n      <td>-0.455874</td>\n      <td>-0.197597</td>\n      <td>0.191142</td>\n      <td>-0.110154</td>\n      <td>0.119288</td>\n      <td>0.319358</td>\n      <td>0.241357</td>\n    </tr>\n    <tr>\n      <th>sugars</th>\n      <td>0.596302</td>\n      <td>-0.285281</td>\n      <td>0.331163</td>\n      <td>-0.014469</td>\n      <td>-0.109703</td>\n      <td>-0.455874</td>\n      <td>1.000000</td>\n      <td>-0.007505</td>\n      <td>0.304366</td>\n      <td>0.073918</td>\n      <td>0.446818</td>\n      <td>-0.056660</td>\n      <td>-0.809203</td>\n    </tr>\n    <tr>\n      <th>potass</th>\n      <td>-0.013812</td>\n      <td>0.711829</td>\n      <td>0.322380</td>\n      <td>-0.115369</td>\n      <td>0.852266</td>\n      <td>-0.197597</td>\n      <td>-0.007505</td>\n      <td>1.000000</td>\n      <td>0.007495</td>\n      <td>0.360447</td>\n      <td>0.429729</td>\n      <td>-0.535341</td>\n      <td>0.306618</td>\n    </tr>\n    <tr>\n      <th>vitamins</th>\n      <td>0.314042</td>\n      <td>-0.006971</td>\n      <td>0.116609</td>\n      <td>0.439967</td>\n      <td>-0.042424</td>\n      <td>0.191142</td>\n      <td>0.304366</td>\n      <td>0.007495</td>\n      <td>1.000000</td>\n      <td>0.269839</td>\n      <td>0.386684</td>\n      <td>0.077897</td>\n      <td>-0.332203</td>\n    </tr>\n    <tr>\n      <th>shelf</th>\n      <td>0.152254</td>\n      <td>0.283255</td>\n      <td>0.236715</td>\n      <td>-0.145355</td>\n      <td>0.316592</td>\n      <td>-0.110154</td>\n      <td>0.073918</td>\n      <td>0.360447</td>\n      <td>0.269839</td>\n      <td>1.000000</td>\n      <td>0.262832</td>\n      <td>-0.314471</td>\n      <td>0.069803</td>\n    </tr>\n    <tr>\n      <th>weight</th>\n      <td>0.622532</td>\n      <td>0.293205</td>\n      <td>0.287783</td>\n      <td>0.263954</td>\n      <td>0.348492</td>\n      <td>0.119288</td>\n      <td>0.446818</td>\n      <td>0.429729</td>\n      <td>0.386684</td>\n      <td>0.262832</td>\n      <td>1.000000</td>\n      <td>-0.285207</td>\n      <td>-0.278600</td>\n    </tr>\n    <tr>\n      <th>cups</th>\n      <td>0.047411</td>\n      <td>-0.362559</td>\n      <td>-0.245754</td>\n      <td>0.145612</td>\n      <td>-0.507596</td>\n      <td>0.319358</td>\n      <td>-0.056660</td>\n      <td>-0.535341</td>\n      <td>0.077897</td>\n      <td>-0.314471</td>\n      <td>-0.285207</td>\n      <td>1.000000</td>\n      <td>-0.162819</td>\n    </tr>\n    <tr>\n      <th>rating</th>\n      <td>-0.705181</td>\n      <td>0.511389</td>\n      <td>-0.443560</td>\n      <td>-0.242567</td>\n      <td>0.489379</td>\n      <td>0.241357</td>\n      <td>-0.809203</td>\n      <td>0.306618</td>\n      <td>-0.332203</td>\n      <td>0.069803</td>\n      <td>-0.278600</td>\n      <td>-0.162819</td>\n      <td>1.000000</td>\n    </tr>\n  </tbody>\n</table>\n</div>"
          },
          "metadata": {}
        }
      ]
    },
    {
      "cell_type": "code",
      "source": "from matplotlib import pyplot as plt\ndata.plot.scatter(x=\"rating\", y=\"sugars\")",
      "metadata": {
        "trusted": true
      },
      "execution_count": 10,
      "outputs": [
        {
          "execution_count": 10,
          "output_type": "execute_result",
          "data": {
            "text/plain": "<AxesSubplot:xlabel='rating', ylabel='sugars'>"
          },
          "metadata": {}
        },
        {
          "output_type": "display_data",
          "data": {
            "text/plain": "<Figure size 640x480 with 1 Axes>",
            "image/png": "[encoded data removed]"
          },
          "metadata": {}
        }
      ]
    },
    {
      "cell_type": "markdown",
      "source": "# 2. Chi-Quadrat Test",
      "metadata": {}
    },
    {
      "cell_type": "markdown",
      "source": "Die Daten in `arthritis.csv` wurden in einem medizinischen Test erhoben und sollen untersuchen, ob sich der Zustand von Patienten mit Arthritis nach der Gabe eines neuen Medikaments verbessert. \n\n1. Laden Sie die Daten in `arthritis.csv` und betrachten Sie die ersten Zeilen und Spalten.\n2. Der Datensatz enhält fehlende Werte im Merkmal `Improved`. Ersetzen Sie diese mit `\"None\"`.\n3. Formulieren Sie eine passende Forschungsfrage\n4. Formulieren Sie eine passende Hypothese\n5. Testen Sie die Hypothese mit einem Chi-Quadrat Test\n    1. Erstellen Sie die Kontingenztafel zu den Daten. Nutzen Sie `Treatment` als Merkmal A und `Improvement` als Merkmal B. Die Tafel soll auch die Randwerte (`margins`) enthalten.\n    2. Welche Dimension hat die Tafel?\n    3. Bestimmen Sie die Erwartungswerte. Tragen Sie diese nicht in die Kontingenztafel ein, sondern erstellen S\n    4. Berechnen Sie den Chi-Quadrat Test basierend auf der Kontingenztafel. Hinweis: nutzen Sie `scipy.stats.chi2_contingency` für die Berechnung\n    5. Basierend auf dem Test: können Sie die Nullhypothese ablehnen oder akzeptieren?",
      "metadata": {}
    },
    {
      "cell_type": "code",
      "source": "# 1\nart_data = pd.read_csv(\"arthritis.csv\", delimiter=\",\")",
      "metadata": {
        "trusted": true
      },
      "execution_count": 11,
      "outputs": []
    },
    {
      "cell_type": "code",
      "source": "# 1\nart_data.head()",
      "metadata": {
        "trusted": true
      },
      "execution_count": 12,
      "outputs": [
        {
          "execution_count": 12,
          "output_type": "execute_result",
          "data": {
            "text/plain": "   rownames  ID Treatment   Sex  Age Improved\n0         1  57   Treated  Male   27     Some\n1         2  46   Treated  Male   29     None\n2         3  77   Treated  Male   30     None\n3         4  17   Treated  Male   32   Marked\n4         5  36   Treated  Male   46   Marked",
            "text/html": "<div>\n<style scoped>\n    .dataframe tbody tr th:only-of-type {\n        vertical-align: middle;\n    }\n\n    .dataframe tbody tr th {\n        vertical-align: top;\n    }\n\n    .dataframe thead th {\n        text-align: right;\n    }\n</style>\n<table border=\"1\" class=\"dataframe\">\n  <thead>\n    <tr style=\"text-align: right;\">\n      <th></th>\n      <th>rownames</th>\n      <th>ID</th>\n      <th>Treatment</th>\n      <th>Sex</th>\n      <th>Age</th>\n      <th>Improved</th>\n    </tr>\n  </thead>\n  <tbody>\n    <tr>\n      <th>0</th>\n      <td>1</td>\n      <td>57</td>\n      <td>Treated</td>\n      <td>Male</td>\n      <td>27</td>\n      <td>Some</td>\n    </tr>\n    <tr>\n      <th>1</th>\n      <td>2</td>\n      <td>46</td>\n      <td>Treated</td>\n      <td>Male</td>\n      <td>29</td>\n      <td>None</td>\n    </tr>\n    <tr>\n      <th>2</th>\n      <td>3</td>\n      <td>77</td>\n      <td>Treated</td>\n      <td>Male</td>\n      <td>30</td>\n      <td>None</td>\n    </tr>\n    <tr>\n      <th>3</th>\n      <td>4</td>\n      <td>17</td>\n      <td>Treated</td>\n      <td>Male</td>\n      <td>32</td>\n      <td>Marked</td>\n    </tr>\n    <tr>\n      <th>4</th>\n      <td>5</td>\n      <td>36</td>\n      <td>Treated</td>\n      <td>Male</td>\n      <td>46</td>\n      <td>Marked</td>\n    </tr>\n  </tbody>\n</table>\n</div>"
          },
          "metadata": {}
        }
      ]
    },
    {
      "cell_type": "code",
      "source": "#2 \nart_data.fillna({\"Improved\":\"None\"}, inplace=True)",
      "metadata": {
        "trusted": true
      },
      "execution_count": 13,
      "outputs": []
    },
    {
      "cell_type": "markdown",
      "source": "Teilaufgabe 3:\n\nForschungsfrage: Lässt sich Arthritis mit dem neuen Medikament XYZ effektiv behandeln?\n\nTeilaufgabe 4:\n\nHypothese:\n\nH0: Der Effekt des Medikaments geht nicht über den Placebo-Effekt hinaus\n\nH1: Das Medikament verbessert die Beschwerden über den Placebo-Effekt hinaus",
      "metadata": {}
    },
    {
      "cell_type": "code",
      "source": "# 5.A\ntab = pd.crosstab(art_data['Treatment'], art_data['Improved'], margins=True)",
      "metadata": {
        "trusted": true
      },
      "execution_count": 22,
      "outputs": []
    },
    {
      "cell_type": "code",
      "source": "print(tab)",
      "metadata": {
        "trusted": true
      },
      "execution_count": 23,
      "outputs": [
        {
          "name": "stdout",
          "text": "Improved   Marked  None  Some  All\nTreatment                         \nPlacebo         7    29     7   43\nTreated        21    13     7   41\nAll            28    42    14   84\n",
          "output_type": "stream"
        }
      ]
    },
    {
      "cell_type": "markdown",
      "source": "Die Dimension ist 2x3",
      "metadata": {}
    },
    {
      "cell_type": "code",
      "source": "# 5.B\nimport numpy as np\ne_werte = np.zeros((2, 3))\nfor i in range(2):\n    for j in range(3):\n        e_werte[i, j] = (tab.iloc[i,-1]*tab.iloc[-1,j])/tab.iloc[-1, -1]\nprint(e_werte)",
      "metadata": {
        "trusted": true
      },
      "execution_count": 25,
      "outputs": [
        {
          "name": "stdout",
          "text": "[[14.33333333 21.5         7.16666667]\n [13.66666667 20.5         6.83333333]]\n",
          "output_type": "stream"
        }
      ]
    },
    {
      "cell_type": "code",
      "source": "from scipy.stats import chi2_contingency",
      "metadata": {
        "trusted": true
      },
      "execution_count": 18,
      "outputs": []
    },
    {
      "cell_type": "code",
      "source": "res = chi2_contingency(tab)",
      "metadata": {
        "trusted": true
      },
      "execution_count": 20,
      "outputs": []
    },
    {
      "cell_type": "code",
      "source": "print(res)",
      "metadata": {
        "trusted": true
      },
      "execution_count": 26,
      "outputs": [
        {
          "name": "stdout",
          "text": "Chi2ContingencyResult(statistic=13.055019852524108, pvalue=0.0014626434089526504, dof=2, expected_freq=array([[14.33333333, 21.5       ,  7.16666667],\n       [13.66666667, 20.5       ,  6.83333333]]))\n",
          "output_type": "stream"
        }
      ]
    },
    {
      "cell_type": "markdown",
      "source": "Die Teststatistik beträgt ca. 13.05 und der zugehörige p-Wert 0.001 und liegt damit untder dem Signifikanzniveau 0.05. Wir können die Nullhypothese ablehnen und die Alterantivhypothese akzeptieren. Das Medikament ist also wirkungsvoll.",
      "metadata": {}
    },
    {
      "cell_type": "code",
      "source": "",
      "metadata": {},
      "execution_count": null,
      "outputs": []
    }
  ]
}