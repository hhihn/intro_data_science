{
  "metadata": {
    "language_info": {
      "codemirror_mode": {
        "name": "python",
        "version": 3
      },
      "file_extension": ".py",
      "mimetype": "text/x-python",
      "name": "python",
      "nbconvert_exporter": "python",
      "pygments_lexer": "ipython3",
      "version": "3.8"
    },
    "kernelspec": {
      "name": "python",
      "display_name": "Python (Pyodide)",
      "language": "python"
    }
  },
  "nbformat_minor": 4,
  "nbformat": 4,
  "cells": [
    {
      "cell_type": "markdown",
      "source": "# Übung \"Statistik Teil 2: Korrelation und Zusammenhang\"\n#### SL \"Grundlagen Data Science\" im WS 23/24 an der HTW Berlin\n#### Heinke Hihn",
      "metadata": {}
    },
    {
      "cell_type": "markdown",
      "source": "# 1. Korrelation\n1. Laden Sie die Daten in `cereal.csv` und betrachten Sie die ersten Zeilen und Spalten. Weitere Informationen finden Sie in `cereal_readme.txt`\n    1. Welche Merkmale gitb es? \n    2. Wie viele Samples hat die Stichprobe?\n4. Das Merkmal `rating` beinhaltet die von Konsumenten gegeben Wertung des Produkts. Mit welchem anderen Merkmal korreliert `rating` am stärksten nach dem Pearson Maß? Mit welchem am wenigsten? Beantworten Sie zur stärksten Korrelation die folgenden Fragen:\n    1. In welche Richtung ist diese Korrelation?\n    2. Wie würden Sie diese in Worten ausdrücken?\n    3. Stellen Sie die Korrelation grafisch als `scatter plot` da",
      "metadata": {}
    },
    {
      "cell_type": "code",
      "source": "",
      "metadata": {
        "trusted": true
      },
      "execution_count": null,
      "outputs": []
    },
    {
      "cell_type": "markdown",
      "source": "# 2. Chi-Quadrat Test auf Unabhängigkeit",
      "metadata": {}
    },
    {
      "cell_type": "markdown",
      "source": "Die Daten in `arthritis.csv` wurden in einem medizinischen Test erhoben und sollen untersuchen, ob sich der Zustand von Patienten mit Arthritis nach der Gabe eines neuen Medikaments verbessert. \n\n1. Laden Sie die Daten in `arthritis.csv` und betrachten Sie die ersten Zeilen und Spalten.\n2. Der Datensatz enhält fehlende Werte im Merkmal `Improved`. Ersetzen Sie diese mit `\"None\"`.\n3. Formulieren Sie eine passende Forschungsfrage\n4. Formulieren Sie eine passende Hypothese\n5. Testen Sie die Hypothese mit einem Chi-Quadrat Test\n    1. Erstellen Sie die Kontingenztafel zu den Daten. Nutzen Sie `Treatment` als Merkmal A und `Improvement` als Merkmal B. Die Tafel soll auch die Randwerte (`margins`) enthalten.\n    2. Welche Dimension hat die Tafel?\n    3. Bestimmen Sie die Erwartungswerte. Tragen Sie diese nicht in die Kontingenztafel ein, sondern erstellen Sie eine Matrix, in die Sie die Werte schreiben.\n    4. Berechnen Sie den Chi-Quadrat Test basierend auf der Kontingenztafel. Hinweis: nutzen Sie `scipy.stats.chi2_contingency` für die Berechnung\n    5. Basierend auf dem Test: können Sie die Nullhypothese ablehnen oder akzeptieren?",
      "metadata": {}
    },
    {
      "cell_type": "code",
      "source": "",
      "metadata": {
        "trusted": true
      },
      "execution_count": null,
      "outputs": []
    }
  ]
}