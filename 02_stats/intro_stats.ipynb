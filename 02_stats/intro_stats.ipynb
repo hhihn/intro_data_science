{
  "metadata": {
    "language_info": {
      "codemirror_mode": {
        "name": "python",
        "version": 3
      },
      "file_extension": ".py",
      "mimetype": "text/x-python",
      "name": "python",
      "nbconvert_exporter": "python",
      "pygments_lexer": "ipython3",
      "version": "3.8"
    },
    "kernelspec": {
      "name": "python",
      "display_name": "Python (Pyodide)",
      "language": "python"
    }
  },
  "nbformat_minor": 4,
  "nbformat": 4,
  "cells": [
    {
      "cell_type": "markdown",
      "source": "# Übung \"Grundlagen Statistik\"",
      "metadata": {}
    },
    {
      "cell_type": "markdown",
      "source": "#### SL \"Grundlagen Data Science\" im WS 23/24 an der HTW Berlin\n#### Heinke Hihn",
      "metadata": {}
    },
    {
      "cell_type": "markdown",
      "source": "# 1. Daten Laden\nSie finden im github repo zur SL die Datei `spotify_songs.csv`. Diese sollen Sie für die nächsten Aufgaben nutzen. ",
      "metadata": {}
    },
    {
      "cell_type": "markdown",
      "source": "#### a) Laden Sie die Daten in ein Pandas Dataframe",
      "metadata": {}
    },
    {
      "cell_type": "code",
      "source": "import pandas as pd\n",
      "metadata": {
        "trusted": true
      },
      "execution_count": null,
      "outputs": []
    },
    {
      "cell_type": "markdown",
      "source": "#### b) Stellen Sie die die ersten Samples des Datensatz da.\n##### Hinweis: nutzen Sie die Methode `head`",
      "metadata": {}
    },
    {
      "cell_type": "code",
      "source": "",
      "metadata": {
        "trusted": true
      },
      "execution_count": null,
      "outputs": []
    },
    {
      "cell_type": "markdown",
      "source": "#### b) Betrachten Sie die beiden Merkmale \"track_artist\" und \"duration_ms\". Welches Skalenniveau haben diese? Begründen Sie Ihre Antwort kurz.",
      "metadata": {}
    },
    {
      "cell_type": "markdown",
      "source": "# 2. Explorative Datenanalyse",
      "metadata": {}
    },
    {
      "cell_type": "markdown",
      "source": "#### a) Wie viele Samples hat dieser Datensatz? Wie viele Merkmale?",
      "metadata": {}
    },
    {
      "cell_type": "code",
      "source": "",
      "metadata": {
        "trusted": true
      },
      "execution_count": null,
      "outputs": []
    },
    {
      "cell_type": "markdown",
      "source": "#### Wie viele verschiedene track_artists sind in dem Datensatz vorhanden?\n##### Hinweis: nutzen Sie die Methode `groupby`",
      "metadata": {}
    },
    {
      "cell_type": "code",
      "source": "",
      "metadata": {
        "trusted": true
      },
      "execution_count": null,
      "outputs": []
    },
    {
      "cell_type": "markdown",
      "source": "#### b) Visualisieren Sie die Länge in Minuten der Songs in einem Boxplot und fassen Sie kurz zusammen, was Sie dieser Grafik entnehmen können.\n##### Hinweis: nutzen Sie die Methode `boxplot`. Dazu müssen Sie vorher die Python Library `matplotlib` importieren",
      "metadata": {}
    },
    {
      "cell_type": "code",
      "source": "",
      "metadata": {
        "trusted": true
      },
      "execution_count": null,
      "outputs": []
    },
    {
      "cell_type": "markdown",
      "source": "#### c) Wie viele Songs sind durchschnittlich auf einer Playlist? Wie viele im Median?",
      "metadata": {}
    },
    {
      "cell_type": "code",
      "source": "",
      "metadata": {
        "trusted": true
      },
      "execution_count": null,
      "outputs": []
    },
    {
      "cell_type": "markdown",
      "source": "#### d) Wie lang ist eine Playlist durchschnittlich?\n##### Nutzen Sie die Methode `agg`",
      "metadata": {}
    },
    {
      "cell_type": "code",
      "source": "",
      "metadata": {
        "trusted": true
      },
      "execution_count": null,
      "outputs": []
    },
    {
      "cell_type": "markdown",
      "source": "#### e) Stellen Sie die Länge der Playlists als Boxplot da. Was fällt Ihnen auf?",
      "metadata": {}
    },
    {
      "cell_type": "code",
      "source": "",
      "metadata": {
        "trusted": true
      },
      "execution_count": null,
      "outputs": []
    },
    {
      "cell_type": "code",
      "source": "",
      "metadata": {
        "trusted": true
      },
      "execution_count": null,
      "outputs": []
    },
    {
      "cell_type": "markdown",
      "source": "#### f) Was ist der Modus des Merkmals \"danceability\"?",
      "metadata": {}
    },
    {
      "cell_type": "markdown",
      "source": "Das Merkmal ist stetig und deswegen können wir die einzelnen Werte nicht einfach zählen. Wir erstellen ein Histogramm und schauen dann in welches Bin die meisten Werte fallen:",
      "metadata": {}
    },
    {
      "cell_type": "code",
      "source": "",
      "metadata": {
        "trusted": true
      },
      "execution_count": null,
      "outputs": []
    },
    {
      "cell_type": "code",
      "source": "",
      "metadata": {},
      "execution_count": null,
      "outputs": []
    }
  ]
}